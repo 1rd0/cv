{
  "cells": [
    {
      "cell_type": "markdown",
      "metadata": {
        "id": "view-in-github",
        "colab_type": "text"
      },
      "source": [
        "<a href=\"https://colab.research.google.com/github/1rd0/cv/blob/main/%D0%9B%D0%B0%D0%B1%D0%BE%D1%80%D0%B0%D1%82%D0%BE%D1%80%D0%BD%D0%B0%D1%8F_%D1%80%D0%B0%D0%B1%D0%BE%D1%82%D0%B0_1_sklearn_knn.ipynb\" target=\"_parent\"><img src=\"https://colab.research.google.com/assets/colab-badge.svg\" alt=\"Open In Colab\"/></a>"
      ]
    },
    {
      "cell_type": "markdown",
      "metadata": {
        "id": "l8p1_7pi1w4a"
      },
      "source": [
        "# k-ближайщих соседей\n",
        "\n",
        "## Лабораторная работа №1"
      ]
    },
    {
      "cell_type": "markdown",
      "metadata": {
        "id": "JLgMVVgY2XJE"
      },
      "source": [
        "\n",
        "---\n",
        "\n",
        "**Впишите в эту ячейку ваши ФИО, группу и вариант**.\n",
        "\n",
        "ФИО:\n",
        "Рабдел Дмитрий Александрович\n",
        "Группа:\n",
        "\n",
        "Вариант:3\n",
        "---\n",
        "\n",
        "Далее по ходу ноутбука вам встрется ячейки с кодом, в которых будут комментарии с заданиями, и текстовые ячейки с вопросами, на которые вам необходимо письменно в ноутбуке ответить.\n",
        "\n",
        "Все ячейки необходимо запускать.\n",
        "\n",
        "Данные для вариантов лежат по ссылкам:\n",
        "\n",
        "1. http://labcolor.space/knn-1.csv\n",
        "1. http://labcolor.space/knn-2.csv\n",
        "1. http://labcolor.space/knn-3.csv\n",
        "\n",
        "Скопируйте ссылку для своего варианта."
      ]
    },
    {
      "cell_type": "markdown",
      "metadata": {
        "id": "DcW9pl7N2MwV"
      },
      "source": [
        "### Импортирование модулей для выполнения работы"
      ]
    },
    {
      "cell_type": "code",
      "execution_count": 48,
      "metadata": {
        "id": "DSAU6fSomr8e"
      },
      "outputs": [],
      "source": [
        "import numpy as np\n",
        "import pandas as pd\n",
        "import matplotlib.pyplot as plt #для визуализации данных.\n",
        "import seaborn as sns\n",
        "from sklearn.model_selection import train_test_split #для разделения данных на тренировочный и тестовый наборы.\n",
        "from sklearn.preprocessing import StandardScaler #для стандартизации данных.\n",
        "from sklearn.neighbors import KNeighborsClassifier\n",
        "from sklearn.metrics import ConfusionMatrixDisplay\n",
        "\n",
        "%matplotlib inline\n",
        "%config InlineBackend.figure_format = 'svg' #Конфигурация формата сохранения изображений в векторном формате SVG.\n",
        "from matplotlib.pyplot import rcParams\n",
        "rcParams['figure.figsize'] = 12, 5 #натсройка"
      ]
    },
    {
      "cell_type": "markdown",
      "metadata": {
        "id": "4GIfToxd8Bs9"
      },
      "source": [
        "Загружаем данные и после выполнения ячейки в выводе должны быть показаны названия столбцов и первые 5 элементов."
      ]
    },
    {
      "cell_type": "code",
      "execution_count": 49,
      "metadata": {
        "id": "t71AScV9m-ir",
        "colab": {
          "base_uri": "https://localhost:8080/",
          "height": 206
        },
        "outputId": "b151243a-b131-4604-8bd8-28775a043405"
      },
      "outputs": [
        {
          "output_type": "execute_result",
          "data": {
            "text/plain": [
              "   feature-1  feature-2  feature-3  feature-4  feature-5  feature-6  \\\n",
              "0   3.174204  -1.136999  -2.351310  -2.003735  -0.005322   1.800765   \n",
              "1  -0.600370   2.314445   3.689726   1.334768   3.690976  -0.601241   \n",
              "2   0.541306   0.952035  -0.208705   2.236486   3.096002  -1.458024   \n",
              "3   0.713610  -0.373447  -4.350381   1.234337   0.693869   2.245402   \n",
              "4  -0.084778   2.485978   0.422907  -2.047483  -1.753940   1.152413   \n",
              "\n",
              "   feature-7  feature-8 target  \n",
              "0  -2.546321  -3.900723      0  \n",
              "1   0.437281  -2.635723      2  \n",
              "2   2.884223   3.029775      1  \n",
              "3  -0.460046  -0.593554      1  \n",
              "4  -1.011035  -3.077880      1  "
            ],
            "text/html": [
              "\n",
              "  <div id=\"df-332399a9-ab12-4dbe-8538-a53bc0489a61\" class=\"colab-df-container\">\n",
              "    <div>\n",
              "<style scoped>\n",
              "    .dataframe tbody tr th:only-of-type {\n",
              "        vertical-align: middle;\n",
              "    }\n",
              "\n",
              "    .dataframe tbody tr th {\n",
              "        vertical-align: top;\n",
              "    }\n",
              "\n",
              "    .dataframe thead th {\n",
              "        text-align: right;\n",
              "    }\n",
              "</style>\n",
              "<table border=\"1\" class=\"dataframe\">\n",
              "  <thead>\n",
              "    <tr style=\"text-align: right;\">\n",
              "      <th></th>\n",
              "      <th>feature-1</th>\n",
              "      <th>feature-2</th>\n",
              "      <th>feature-3</th>\n",
              "      <th>feature-4</th>\n",
              "      <th>feature-5</th>\n",
              "      <th>feature-6</th>\n",
              "      <th>feature-7</th>\n",
              "      <th>feature-8</th>\n",
              "      <th>target</th>\n",
              "    </tr>\n",
              "  </thead>\n",
              "  <tbody>\n",
              "    <tr>\n",
              "      <th>0</th>\n",
              "      <td>3.174204</td>\n",
              "      <td>-1.136999</td>\n",
              "      <td>-2.351310</td>\n",
              "      <td>-2.003735</td>\n",
              "      <td>-0.005322</td>\n",
              "      <td>1.800765</td>\n",
              "      <td>-2.546321</td>\n",
              "      <td>-3.900723</td>\n",
              "      <td>0</td>\n",
              "    </tr>\n",
              "    <tr>\n",
              "      <th>1</th>\n",
              "      <td>-0.600370</td>\n",
              "      <td>2.314445</td>\n",
              "      <td>3.689726</td>\n",
              "      <td>1.334768</td>\n",
              "      <td>3.690976</td>\n",
              "      <td>-0.601241</td>\n",
              "      <td>0.437281</td>\n",
              "      <td>-2.635723</td>\n",
              "      <td>2</td>\n",
              "    </tr>\n",
              "    <tr>\n",
              "      <th>2</th>\n",
              "      <td>0.541306</td>\n",
              "      <td>0.952035</td>\n",
              "      <td>-0.208705</td>\n",
              "      <td>2.236486</td>\n",
              "      <td>3.096002</td>\n",
              "      <td>-1.458024</td>\n",
              "      <td>2.884223</td>\n",
              "      <td>3.029775</td>\n",
              "      <td>1</td>\n",
              "    </tr>\n",
              "    <tr>\n",
              "      <th>3</th>\n",
              "      <td>0.713610</td>\n",
              "      <td>-0.373447</td>\n",
              "      <td>-4.350381</td>\n",
              "      <td>1.234337</td>\n",
              "      <td>0.693869</td>\n",
              "      <td>2.245402</td>\n",
              "      <td>-0.460046</td>\n",
              "      <td>-0.593554</td>\n",
              "      <td>1</td>\n",
              "    </tr>\n",
              "    <tr>\n",
              "      <th>4</th>\n",
              "      <td>-0.084778</td>\n",
              "      <td>2.485978</td>\n",
              "      <td>0.422907</td>\n",
              "      <td>-2.047483</td>\n",
              "      <td>-1.753940</td>\n",
              "      <td>1.152413</td>\n",
              "      <td>-1.011035</td>\n",
              "      <td>-3.077880</td>\n",
              "      <td>1</td>\n",
              "    </tr>\n",
              "  </tbody>\n",
              "</table>\n",
              "</div>\n",
              "    <div class=\"colab-df-buttons\">\n",
              "\n",
              "  <div class=\"colab-df-container\">\n",
              "    <button class=\"colab-df-convert\" onclick=\"convertToInteractive('df-332399a9-ab12-4dbe-8538-a53bc0489a61')\"\n",
              "            title=\"Convert this dataframe to an interactive table.\"\n",
              "            style=\"display:none;\">\n",
              "\n",
              "  <svg xmlns=\"http://www.w3.org/2000/svg\" height=\"24px\" viewBox=\"0 -960 960 960\">\n",
              "    <path d=\"M120-120v-720h720v720H120Zm60-500h600v-160H180v160Zm220 220h160v-160H400v160Zm0 220h160v-160H400v160ZM180-400h160v-160H180v160Zm440 0h160v-160H620v160ZM180-180h160v-160H180v160Zm440 0h160v-160H620v160Z\"/>\n",
              "  </svg>\n",
              "    </button>\n",
              "\n",
              "  <style>\n",
              "    .colab-df-container {\n",
              "      display:flex;\n",
              "      gap: 12px;\n",
              "    }\n",
              "\n",
              "    .colab-df-convert {\n",
              "      background-color: #E8F0FE;\n",
              "      border: none;\n",
              "      border-radius: 50%;\n",
              "      cursor: pointer;\n",
              "      display: none;\n",
              "      fill: #1967D2;\n",
              "      height: 32px;\n",
              "      padding: 0 0 0 0;\n",
              "      width: 32px;\n",
              "    }\n",
              "\n",
              "    .colab-df-convert:hover {\n",
              "      background-color: #E2EBFA;\n",
              "      box-shadow: 0px 1px 2px rgba(60, 64, 67, 0.3), 0px 1px 3px 1px rgba(60, 64, 67, 0.15);\n",
              "      fill: #174EA6;\n",
              "    }\n",
              "\n",
              "    .colab-df-buttons div {\n",
              "      margin-bottom: 4px;\n",
              "    }\n",
              "\n",
              "    [theme=dark] .colab-df-convert {\n",
              "      background-color: #3B4455;\n",
              "      fill: #D2E3FC;\n",
              "    }\n",
              "\n",
              "    [theme=dark] .colab-df-convert:hover {\n",
              "      background-color: #434B5C;\n",
              "      box-shadow: 0px 1px 3px 1px rgba(0, 0, 0, 0.15);\n",
              "      filter: drop-shadow(0px 1px 2px rgba(0, 0, 0, 0.3));\n",
              "      fill: #FFFFFF;\n",
              "    }\n",
              "  </style>\n",
              "\n",
              "    <script>\n",
              "      const buttonEl =\n",
              "        document.querySelector('#df-332399a9-ab12-4dbe-8538-a53bc0489a61 button.colab-df-convert');\n",
              "      buttonEl.style.display =\n",
              "        google.colab.kernel.accessAllowed ? 'block' : 'none';\n",
              "\n",
              "      async function convertToInteractive(key) {\n",
              "        const element = document.querySelector('#df-332399a9-ab12-4dbe-8538-a53bc0489a61');\n",
              "        const dataTable =\n",
              "          await google.colab.kernel.invokeFunction('convertToInteractive',\n",
              "                                                    [key], {});\n",
              "        if (!dataTable) return;\n",
              "\n",
              "        const docLinkHtml = 'Like what you see? Visit the ' +\n",
              "          '<a target=\"_blank\" href=https://colab.research.google.com/notebooks/data_table.ipynb>data table notebook</a>'\n",
              "          + ' to learn more about interactive tables.';\n",
              "        element.innerHTML = '';\n",
              "        dataTable['output_type'] = 'display_data';\n",
              "        await google.colab.output.renderOutput(dataTable, element);\n",
              "        const docLink = document.createElement('div');\n",
              "        docLink.innerHTML = docLinkHtml;\n",
              "        element.appendChild(docLink);\n",
              "      }\n",
              "    </script>\n",
              "  </div>\n",
              "\n",
              "\n",
              "<div id=\"df-852c9c38-2f31-4b23-a62a-a13655fd1f62\">\n",
              "  <button class=\"colab-df-quickchart\" onclick=\"quickchart('df-852c9c38-2f31-4b23-a62a-a13655fd1f62')\"\n",
              "            title=\"Suggest charts\"\n",
              "            style=\"display:none;\">\n",
              "\n",
              "<svg xmlns=\"http://www.w3.org/2000/svg\" height=\"24px\"viewBox=\"0 0 24 24\"\n",
              "     width=\"24px\">\n",
              "    <g>\n",
              "        <path d=\"M19 3H5c-1.1 0-2 .9-2 2v14c0 1.1.9 2 2 2h14c1.1 0 2-.9 2-2V5c0-1.1-.9-2-2-2zM9 17H7v-7h2v7zm4 0h-2V7h2v10zm4 0h-2v-4h2v4z\"/>\n",
              "    </g>\n",
              "</svg>\n",
              "  </button>\n",
              "\n",
              "<style>\n",
              "  .colab-df-quickchart {\n",
              "      --bg-color: #E8F0FE;\n",
              "      --fill-color: #1967D2;\n",
              "      --hover-bg-color: #E2EBFA;\n",
              "      --hover-fill-color: #174EA6;\n",
              "      --disabled-fill-color: #AAA;\n",
              "      --disabled-bg-color: #DDD;\n",
              "  }\n",
              "\n",
              "  [theme=dark] .colab-df-quickchart {\n",
              "      --bg-color: #3B4455;\n",
              "      --fill-color: #D2E3FC;\n",
              "      --hover-bg-color: #434B5C;\n",
              "      --hover-fill-color: #FFFFFF;\n",
              "      --disabled-bg-color: #3B4455;\n",
              "      --disabled-fill-color: #666;\n",
              "  }\n",
              "\n",
              "  .colab-df-quickchart {\n",
              "    background-color: var(--bg-color);\n",
              "    border: none;\n",
              "    border-radius: 50%;\n",
              "    cursor: pointer;\n",
              "    display: none;\n",
              "    fill: var(--fill-color);\n",
              "    height: 32px;\n",
              "    padding: 0;\n",
              "    width: 32px;\n",
              "  }\n",
              "\n",
              "  .colab-df-quickchart:hover {\n",
              "    background-color: var(--hover-bg-color);\n",
              "    box-shadow: 0 1px 2px rgba(60, 64, 67, 0.3), 0 1px 3px 1px rgba(60, 64, 67, 0.15);\n",
              "    fill: var(--button-hover-fill-color);\n",
              "  }\n",
              "\n",
              "  .colab-df-quickchart-complete:disabled,\n",
              "  .colab-df-quickchart-complete:disabled:hover {\n",
              "    background-color: var(--disabled-bg-color);\n",
              "    fill: var(--disabled-fill-color);\n",
              "    box-shadow: none;\n",
              "  }\n",
              "\n",
              "  .colab-df-spinner {\n",
              "    border: 2px solid var(--fill-color);\n",
              "    border-color: transparent;\n",
              "    border-bottom-color: var(--fill-color);\n",
              "    animation:\n",
              "      spin 1s steps(1) infinite;\n",
              "  }\n",
              "\n",
              "  @keyframes spin {\n",
              "    0% {\n",
              "      border-color: transparent;\n",
              "      border-bottom-color: var(--fill-color);\n",
              "      border-left-color: var(--fill-color);\n",
              "    }\n",
              "    20% {\n",
              "      border-color: transparent;\n",
              "      border-left-color: var(--fill-color);\n",
              "      border-top-color: var(--fill-color);\n",
              "    }\n",
              "    30% {\n",
              "      border-color: transparent;\n",
              "      border-left-color: var(--fill-color);\n",
              "      border-top-color: var(--fill-color);\n",
              "      border-right-color: var(--fill-color);\n",
              "    }\n",
              "    40% {\n",
              "      border-color: transparent;\n",
              "      border-right-color: var(--fill-color);\n",
              "      border-top-color: var(--fill-color);\n",
              "    }\n",
              "    60% {\n",
              "      border-color: transparent;\n",
              "      border-right-color: var(--fill-color);\n",
              "    }\n",
              "    80% {\n",
              "      border-color: transparent;\n",
              "      border-right-color: var(--fill-color);\n",
              "      border-bottom-color: var(--fill-color);\n",
              "    }\n",
              "    90% {\n",
              "      border-color: transparent;\n",
              "      border-bottom-color: var(--fill-color);\n",
              "    }\n",
              "  }\n",
              "</style>\n",
              "\n",
              "  <script>\n",
              "    async function quickchart(key) {\n",
              "      const quickchartButtonEl =\n",
              "        document.querySelector('#' + key + ' button');\n",
              "      quickchartButtonEl.disabled = true;  // To prevent multiple clicks.\n",
              "      quickchartButtonEl.classList.add('colab-df-spinner');\n",
              "      try {\n",
              "        const charts = await google.colab.kernel.invokeFunction(\n",
              "            'suggestCharts', [key], {});\n",
              "      } catch (error) {\n",
              "        console.error('Error during call to suggestCharts:', error);\n",
              "      }\n",
              "      quickchartButtonEl.classList.remove('colab-df-spinner');\n",
              "      quickchartButtonEl.classList.add('colab-df-quickchart-complete');\n",
              "    }\n",
              "    (() => {\n",
              "      let quickchartButtonEl =\n",
              "        document.querySelector('#df-852c9c38-2f31-4b23-a62a-a13655fd1f62 button');\n",
              "      quickchartButtonEl.style.display =\n",
              "        google.colab.kernel.accessAllowed ? 'block' : 'none';\n",
              "    })();\n",
              "  </script>\n",
              "</div>\n",
              "    </div>\n",
              "  </div>\n"
            ]
          },
          "metadata": {},
          "execution_count": 49
        }
      ],
      "source": [
        "df = pd.read_csv(\"/content/knn-3.csv\", dtype={'target':'category'})\n",
        "df.head()"
      ]
    },
    {
      "cell_type": "markdown",
      "metadata": {
        "id": "Jep2I3Ty9rRR"
      },
      "source": [
        "В слудующих двух ячейках выведется статистика по вашим данным."
      ]
    },
    {
      "cell_type": "code",
      "execution_count": 50,
      "metadata": {
        "id": "EEN338UD8XZ4",
        "colab": {
          "base_uri": "https://localhost:8080/",
          "height": 300
        },
        "outputId": "5925260e-8c53-4562-f87c-fb6522156649"
      },
      "outputs": [
        {
          "output_type": "execute_result",
          "data": {
            "text/plain": [
              "        feature-1   feature-2   feature-3   feature-4   feature-5   feature-6  \\\n",
              "count  999.000000  999.000000  999.000000  999.000000  999.000000  999.000000   \n",
              "mean     0.278944    0.298420    0.258537   -0.222609    0.242526    0.510589   \n",
              "std      1.908944    1.925397    2.068448    2.071286    1.802636    1.773920   \n",
              "min     -6.457514   -5.926529   -6.328785   -6.187366   -6.937898   -5.309478   \n",
              "25%     -1.012364   -1.028279   -1.141475   -1.602696   -0.944128   -0.567953   \n",
              "50%      0.314052    0.341535    0.358314   -0.321795    0.292186    0.602860   \n",
              "75%      1.578690    1.523217    1.662746    1.079925    1.506067    1.705878   \n",
              "max      7.130152    7.561378    6.773532    6.759298    6.976518    6.623025   \n",
              "\n",
              "        feature-7   feature-8  \n",
              "count  999.000000  999.000000  \n",
              "mean    -0.229492   -0.060369  \n",
              "std      1.814418    1.967284  \n",
              "min     -5.401892   -6.399801  \n",
              "25%     -1.466721   -1.430912  \n",
              "50%     -0.356480   -0.106940  \n",
              "75%      0.856737    1.197518  \n",
              "max      6.627630    6.152861  "
            ],
            "text/html": [
              "\n",
              "  <div id=\"df-bd610f9c-f380-4937-83f7-af89ed27416c\" class=\"colab-df-container\">\n",
              "    <div>\n",
              "<style scoped>\n",
              "    .dataframe tbody tr th:only-of-type {\n",
              "        vertical-align: middle;\n",
              "    }\n",
              "\n",
              "    .dataframe tbody tr th {\n",
              "        vertical-align: top;\n",
              "    }\n",
              "\n",
              "    .dataframe thead th {\n",
              "        text-align: right;\n",
              "    }\n",
              "</style>\n",
              "<table border=\"1\" class=\"dataframe\">\n",
              "  <thead>\n",
              "    <tr style=\"text-align: right;\">\n",
              "      <th></th>\n",
              "      <th>feature-1</th>\n",
              "      <th>feature-2</th>\n",
              "      <th>feature-3</th>\n",
              "      <th>feature-4</th>\n",
              "      <th>feature-5</th>\n",
              "      <th>feature-6</th>\n",
              "      <th>feature-7</th>\n",
              "      <th>feature-8</th>\n",
              "    </tr>\n",
              "  </thead>\n",
              "  <tbody>\n",
              "    <tr>\n",
              "      <th>count</th>\n",
              "      <td>999.000000</td>\n",
              "      <td>999.000000</td>\n",
              "      <td>999.000000</td>\n",
              "      <td>999.000000</td>\n",
              "      <td>999.000000</td>\n",
              "      <td>999.000000</td>\n",
              "      <td>999.000000</td>\n",
              "      <td>999.000000</td>\n",
              "    </tr>\n",
              "    <tr>\n",
              "      <th>mean</th>\n",
              "      <td>0.278944</td>\n",
              "      <td>0.298420</td>\n",
              "      <td>0.258537</td>\n",
              "      <td>-0.222609</td>\n",
              "      <td>0.242526</td>\n",
              "      <td>0.510589</td>\n",
              "      <td>-0.229492</td>\n",
              "      <td>-0.060369</td>\n",
              "    </tr>\n",
              "    <tr>\n",
              "      <th>std</th>\n",
              "      <td>1.908944</td>\n",
              "      <td>1.925397</td>\n",
              "      <td>2.068448</td>\n",
              "      <td>2.071286</td>\n",
              "      <td>1.802636</td>\n",
              "      <td>1.773920</td>\n",
              "      <td>1.814418</td>\n",
              "      <td>1.967284</td>\n",
              "    </tr>\n",
              "    <tr>\n",
              "      <th>min</th>\n",
              "      <td>-6.457514</td>\n",
              "      <td>-5.926529</td>\n",
              "      <td>-6.328785</td>\n",
              "      <td>-6.187366</td>\n",
              "      <td>-6.937898</td>\n",
              "      <td>-5.309478</td>\n",
              "      <td>-5.401892</td>\n",
              "      <td>-6.399801</td>\n",
              "    </tr>\n",
              "    <tr>\n",
              "      <th>25%</th>\n",
              "      <td>-1.012364</td>\n",
              "      <td>-1.028279</td>\n",
              "      <td>-1.141475</td>\n",
              "      <td>-1.602696</td>\n",
              "      <td>-0.944128</td>\n",
              "      <td>-0.567953</td>\n",
              "      <td>-1.466721</td>\n",
              "      <td>-1.430912</td>\n",
              "    </tr>\n",
              "    <tr>\n",
              "      <th>50%</th>\n",
              "      <td>0.314052</td>\n",
              "      <td>0.341535</td>\n",
              "      <td>0.358314</td>\n",
              "      <td>-0.321795</td>\n",
              "      <td>0.292186</td>\n",
              "      <td>0.602860</td>\n",
              "      <td>-0.356480</td>\n",
              "      <td>-0.106940</td>\n",
              "    </tr>\n",
              "    <tr>\n",
              "      <th>75%</th>\n",
              "      <td>1.578690</td>\n",
              "      <td>1.523217</td>\n",
              "      <td>1.662746</td>\n",
              "      <td>1.079925</td>\n",
              "      <td>1.506067</td>\n",
              "      <td>1.705878</td>\n",
              "      <td>0.856737</td>\n",
              "      <td>1.197518</td>\n",
              "    </tr>\n",
              "    <tr>\n",
              "      <th>max</th>\n",
              "      <td>7.130152</td>\n",
              "      <td>7.561378</td>\n",
              "      <td>6.773532</td>\n",
              "      <td>6.759298</td>\n",
              "      <td>6.976518</td>\n",
              "      <td>6.623025</td>\n",
              "      <td>6.627630</td>\n",
              "      <td>6.152861</td>\n",
              "    </tr>\n",
              "  </tbody>\n",
              "</table>\n",
              "</div>\n",
              "    <div class=\"colab-df-buttons\">\n",
              "\n",
              "  <div class=\"colab-df-container\">\n",
              "    <button class=\"colab-df-convert\" onclick=\"convertToInteractive('df-bd610f9c-f380-4937-83f7-af89ed27416c')\"\n",
              "            title=\"Convert this dataframe to an interactive table.\"\n",
              "            style=\"display:none;\">\n",
              "\n",
              "  <svg xmlns=\"http://www.w3.org/2000/svg\" height=\"24px\" viewBox=\"0 -960 960 960\">\n",
              "    <path d=\"M120-120v-720h720v720H120Zm60-500h600v-160H180v160Zm220 220h160v-160H400v160Zm0 220h160v-160H400v160ZM180-400h160v-160H180v160Zm440 0h160v-160H620v160ZM180-180h160v-160H180v160Zm440 0h160v-160H620v160Z\"/>\n",
              "  </svg>\n",
              "    </button>\n",
              "\n",
              "  <style>\n",
              "    .colab-df-container {\n",
              "      display:flex;\n",
              "      gap: 12px;\n",
              "    }\n",
              "\n",
              "    .colab-df-convert {\n",
              "      background-color: #E8F0FE;\n",
              "      border: none;\n",
              "      border-radius: 50%;\n",
              "      cursor: pointer;\n",
              "      display: none;\n",
              "      fill: #1967D2;\n",
              "      height: 32px;\n",
              "      padding: 0 0 0 0;\n",
              "      width: 32px;\n",
              "    }\n",
              "\n",
              "    .colab-df-convert:hover {\n",
              "      background-color: #E2EBFA;\n",
              "      box-shadow: 0px 1px 2px rgba(60, 64, 67, 0.3), 0px 1px 3px 1px rgba(60, 64, 67, 0.15);\n",
              "      fill: #174EA6;\n",
              "    }\n",
              "\n",
              "    .colab-df-buttons div {\n",
              "      margin-bottom: 4px;\n",
              "    }\n",
              "\n",
              "    [theme=dark] .colab-df-convert {\n",
              "      background-color: #3B4455;\n",
              "      fill: #D2E3FC;\n",
              "    }\n",
              "\n",
              "    [theme=dark] .colab-df-convert:hover {\n",
              "      background-color: #434B5C;\n",
              "      box-shadow: 0px 1px 3px 1px rgba(0, 0, 0, 0.15);\n",
              "      filter: drop-shadow(0px 1px 2px rgba(0, 0, 0, 0.3));\n",
              "      fill: #FFFFFF;\n",
              "    }\n",
              "  </style>\n",
              "\n",
              "    <script>\n",
              "      const buttonEl =\n",
              "        document.querySelector('#df-bd610f9c-f380-4937-83f7-af89ed27416c button.colab-df-convert');\n",
              "      buttonEl.style.display =\n",
              "        google.colab.kernel.accessAllowed ? 'block' : 'none';\n",
              "\n",
              "      async function convertToInteractive(key) {\n",
              "        const element = document.querySelector('#df-bd610f9c-f380-4937-83f7-af89ed27416c');\n",
              "        const dataTable =\n",
              "          await google.colab.kernel.invokeFunction('convertToInteractive',\n",
              "                                                    [key], {});\n",
              "        if (!dataTable) return;\n",
              "\n",
              "        const docLinkHtml = 'Like what you see? Visit the ' +\n",
              "          '<a target=\"_blank\" href=https://colab.research.google.com/notebooks/data_table.ipynb>data table notebook</a>'\n",
              "          + ' to learn more about interactive tables.';\n",
              "        element.innerHTML = '';\n",
              "        dataTable['output_type'] = 'display_data';\n",
              "        await google.colab.output.renderOutput(dataTable, element);\n",
              "        const docLink = document.createElement('div');\n",
              "        docLink.innerHTML = docLinkHtml;\n",
              "        element.appendChild(docLink);\n",
              "      }\n",
              "    </script>\n",
              "  </div>\n",
              "\n",
              "\n",
              "<div id=\"df-f3cac671-2cc5-4e0f-ab3e-b38eb71ff6eb\">\n",
              "  <button class=\"colab-df-quickchart\" onclick=\"quickchart('df-f3cac671-2cc5-4e0f-ab3e-b38eb71ff6eb')\"\n",
              "            title=\"Suggest charts\"\n",
              "            style=\"display:none;\">\n",
              "\n",
              "<svg xmlns=\"http://www.w3.org/2000/svg\" height=\"24px\"viewBox=\"0 0 24 24\"\n",
              "     width=\"24px\">\n",
              "    <g>\n",
              "        <path d=\"M19 3H5c-1.1 0-2 .9-2 2v14c0 1.1.9 2 2 2h14c1.1 0 2-.9 2-2V5c0-1.1-.9-2-2-2zM9 17H7v-7h2v7zm4 0h-2V7h2v10zm4 0h-2v-4h2v4z\"/>\n",
              "    </g>\n",
              "</svg>\n",
              "  </button>\n",
              "\n",
              "<style>\n",
              "  .colab-df-quickchart {\n",
              "      --bg-color: #E8F0FE;\n",
              "      --fill-color: #1967D2;\n",
              "      --hover-bg-color: #E2EBFA;\n",
              "      --hover-fill-color: #174EA6;\n",
              "      --disabled-fill-color: #AAA;\n",
              "      --disabled-bg-color: #DDD;\n",
              "  }\n",
              "\n",
              "  [theme=dark] .colab-df-quickchart {\n",
              "      --bg-color: #3B4455;\n",
              "      --fill-color: #D2E3FC;\n",
              "      --hover-bg-color: #434B5C;\n",
              "      --hover-fill-color: #FFFFFF;\n",
              "      --disabled-bg-color: #3B4455;\n",
              "      --disabled-fill-color: #666;\n",
              "  }\n",
              "\n",
              "  .colab-df-quickchart {\n",
              "    background-color: var(--bg-color);\n",
              "    border: none;\n",
              "    border-radius: 50%;\n",
              "    cursor: pointer;\n",
              "    display: none;\n",
              "    fill: var(--fill-color);\n",
              "    height: 32px;\n",
              "    padding: 0;\n",
              "    width: 32px;\n",
              "  }\n",
              "\n",
              "  .colab-df-quickchart:hover {\n",
              "    background-color: var(--hover-bg-color);\n",
              "    box-shadow: 0 1px 2px rgba(60, 64, 67, 0.3), 0 1px 3px 1px rgba(60, 64, 67, 0.15);\n",
              "    fill: var(--button-hover-fill-color);\n",
              "  }\n",
              "\n",
              "  .colab-df-quickchart-complete:disabled,\n",
              "  .colab-df-quickchart-complete:disabled:hover {\n",
              "    background-color: var(--disabled-bg-color);\n",
              "    fill: var(--disabled-fill-color);\n",
              "    box-shadow: none;\n",
              "  }\n",
              "\n",
              "  .colab-df-spinner {\n",
              "    border: 2px solid var(--fill-color);\n",
              "    border-color: transparent;\n",
              "    border-bottom-color: var(--fill-color);\n",
              "    animation:\n",
              "      spin 1s steps(1) infinite;\n",
              "  }\n",
              "\n",
              "  @keyframes spin {\n",
              "    0% {\n",
              "      border-color: transparent;\n",
              "      border-bottom-color: var(--fill-color);\n",
              "      border-left-color: var(--fill-color);\n",
              "    }\n",
              "    20% {\n",
              "      border-color: transparent;\n",
              "      border-left-color: var(--fill-color);\n",
              "      border-top-color: var(--fill-color);\n",
              "    }\n",
              "    30% {\n",
              "      border-color: transparent;\n",
              "      border-left-color: var(--fill-color);\n",
              "      border-top-color: var(--fill-color);\n",
              "      border-right-color: var(--fill-color);\n",
              "    }\n",
              "    40% {\n",
              "      border-color: transparent;\n",
              "      border-right-color: var(--fill-color);\n",
              "      border-top-color: var(--fill-color);\n",
              "    }\n",
              "    60% {\n",
              "      border-color: transparent;\n",
              "      border-right-color: var(--fill-color);\n",
              "    }\n",
              "    80% {\n",
              "      border-color: transparent;\n",
              "      border-right-color: var(--fill-color);\n",
              "      border-bottom-color: var(--fill-color);\n",
              "    }\n",
              "    90% {\n",
              "      border-color: transparent;\n",
              "      border-bottom-color: var(--fill-color);\n",
              "    }\n",
              "  }\n",
              "</style>\n",
              "\n",
              "  <script>\n",
              "    async function quickchart(key) {\n",
              "      const quickchartButtonEl =\n",
              "        document.querySelector('#' + key + ' button');\n",
              "      quickchartButtonEl.disabled = true;  // To prevent multiple clicks.\n",
              "      quickchartButtonEl.classList.add('colab-df-spinner');\n",
              "      try {\n",
              "        const charts = await google.colab.kernel.invokeFunction(\n",
              "            'suggestCharts', [key], {});\n",
              "      } catch (error) {\n",
              "        console.error('Error during call to suggestCharts:', error);\n",
              "      }\n",
              "      quickchartButtonEl.classList.remove('colab-df-spinner');\n",
              "      quickchartButtonEl.classList.add('colab-df-quickchart-complete');\n",
              "    }\n",
              "    (() => {\n",
              "      let quickchartButtonEl =\n",
              "        document.querySelector('#df-f3cac671-2cc5-4e0f-ab3e-b38eb71ff6eb button');\n",
              "      quickchartButtonEl.style.display =\n",
              "        google.colab.kernel.accessAllowed ? 'block' : 'none';\n",
              "    })();\n",
              "  </script>\n",
              "</div>\n",
              "    </div>\n",
              "  </div>\n"
            ]
          },
          "metadata": {},
          "execution_count": 50
        }
      ],
      "source": [
        "df.describe(include='number')"
      ]
    },
    {
      "cell_type": "markdown",
      "source": [],
      "metadata": {
        "id": "pSi7iLYuT-o-"
      }
    },
    {
      "cell_type": "code",
      "source": [
        "df.shape"
      ],
      "metadata": {
        "id": "Ff05vwqlT-5Y",
        "colab": {
          "base_uri": "https://localhost:8080/"
        },
        "outputId": "76fae19a-68b9-4368-93eb-432d6060a2e6"
      },
      "execution_count": 34,
      "outputs": [
        {
          "output_type": "execute_result",
          "data": {
            "text/plain": [
              "(999, 9)"
            ]
          },
          "metadata": {},
          "execution_count": 34
        }
      ]
    },
    {
      "cell_type": "markdown",
      "source": [],
      "metadata": {
        "id": "Zn5s7m13UJuu"
      }
    },
    {
      "cell_type": "markdown",
      "metadata": {
        "id": "1lTUqLin9zrp"
      },
      "source": [
        "**Сколько объектов есть в вашем наборе данных?**\n",
        "\n",
        "Ответ:999\n",
        "\n",
        "**Сколько признаков у ваших объектов?**\n",
        "\n",
        "Ответ:9"
      ]
    },
    {
      "cell_type": "code",
      "execution_count": 51,
      "metadata": {
        "id": "QfSCAR5Z9Y-s",
        "colab": {
          "base_uri": "https://localhost:8080/",
          "height": 175
        },
        "outputId": "ad0b7703-4047-4b4e-f94a-41d124b60c85"
      },
      "outputs": [
        {
          "output_type": "execute_result",
          "data": {
            "text/plain": [
              "       target\n",
              "count     999\n",
              "unique      4\n",
              "top         1\n",
              "freq      250"
            ],
            "text/html": [
              "\n",
              "  <div id=\"df-1b3692e6-6526-4163-b361-9258f9c014ed\" class=\"colab-df-container\">\n",
              "    <div>\n",
              "<style scoped>\n",
              "    .dataframe tbody tr th:only-of-type {\n",
              "        vertical-align: middle;\n",
              "    }\n",
              "\n",
              "    .dataframe tbody tr th {\n",
              "        vertical-align: top;\n",
              "    }\n",
              "\n",
              "    .dataframe thead th {\n",
              "        text-align: right;\n",
              "    }\n",
              "</style>\n",
              "<table border=\"1\" class=\"dataframe\">\n",
              "  <thead>\n",
              "    <tr style=\"text-align: right;\">\n",
              "      <th></th>\n",
              "      <th>target</th>\n",
              "    </tr>\n",
              "  </thead>\n",
              "  <tbody>\n",
              "    <tr>\n",
              "      <th>count</th>\n",
              "      <td>999</td>\n",
              "    </tr>\n",
              "    <tr>\n",
              "      <th>unique</th>\n",
              "      <td>4</td>\n",
              "    </tr>\n",
              "    <tr>\n",
              "      <th>top</th>\n",
              "      <td>1</td>\n",
              "    </tr>\n",
              "    <tr>\n",
              "      <th>freq</th>\n",
              "      <td>250</td>\n",
              "    </tr>\n",
              "  </tbody>\n",
              "</table>\n",
              "</div>\n",
              "    <div class=\"colab-df-buttons\">\n",
              "\n",
              "  <div class=\"colab-df-container\">\n",
              "    <button class=\"colab-df-convert\" onclick=\"convertToInteractive('df-1b3692e6-6526-4163-b361-9258f9c014ed')\"\n",
              "            title=\"Convert this dataframe to an interactive table.\"\n",
              "            style=\"display:none;\">\n",
              "\n",
              "  <svg xmlns=\"http://www.w3.org/2000/svg\" height=\"24px\" viewBox=\"0 -960 960 960\">\n",
              "    <path d=\"M120-120v-720h720v720H120Zm60-500h600v-160H180v160Zm220 220h160v-160H400v160Zm0 220h160v-160H400v160ZM180-400h160v-160H180v160Zm440 0h160v-160H620v160ZM180-180h160v-160H180v160Zm440 0h160v-160H620v160Z\"/>\n",
              "  </svg>\n",
              "    </button>\n",
              "\n",
              "  <style>\n",
              "    .colab-df-container {\n",
              "      display:flex;\n",
              "      gap: 12px;\n",
              "    }\n",
              "\n",
              "    .colab-df-convert {\n",
              "      background-color: #E8F0FE;\n",
              "      border: none;\n",
              "      border-radius: 50%;\n",
              "      cursor: pointer;\n",
              "      display: none;\n",
              "      fill: #1967D2;\n",
              "      height: 32px;\n",
              "      padding: 0 0 0 0;\n",
              "      width: 32px;\n",
              "    }\n",
              "\n",
              "    .colab-df-convert:hover {\n",
              "      background-color: #E2EBFA;\n",
              "      box-shadow: 0px 1px 2px rgba(60, 64, 67, 0.3), 0px 1px 3px 1px rgba(60, 64, 67, 0.15);\n",
              "      fill: #174EA6;\n",
              "    }\n",
              "\n",
              "    .colab-df-buttons div {\n",
              "      margin-bottom: 4px;\n",
              "    }\n",
              "\n",
              "    [theme=dark] .colab-df-convert {\n",
              "      background-color: #3B4455;\n",
              "      fill: #D2E3FC;\n",
              "    }\n",
              "\n",
              "    [theme=dark] .colab-df-convert:hover {\n",
              "      background-color: #434B5C;\n",
              "      box-shadow: 0px 1px 3px 1px rgba(0, 0, 0, 0.15);\n",
              "      filter: drop-shadow(0px 1px 2px rgba(0, 0, 0, 0.3));\n",
              "      fill: #FFFFFF;\n",
              "    }\n",
              "  </style>\n",
              "\n",
              "    <script>\n",
              "      const buttonEl =\n",
              "        document.querySelector('#df-1b3692e6-6526-4163-b361-9258f9c014ed button.colab-df-convert');\n",
              "      buttonEl.style.display =\n",
              "        google.colab.kernel.accessAllowed ? 'block' : 'none';\n",
              "\n",
              "      async function convertToInteractive(key) {\n",
              "        const element = document.querySelector('#df-1b3692e6-6526-4163-b361-9258f9c014ed');\n",
              "        const dataTable =\n",
              "          await google.colab.kernel.invokeFunction('convertToInteractive',\n",
              "                                                    [key], {});\n",
              "        if (!dataTable) return;\n",
              "\n",
              "        const docLinkHtml = 'Like what you see? Visit the ' +\n",
              "          '<a target=\"_blank\" href=https://colab.research.google.com/notebooks/data_table.ipynb>data table notebook</a>'\n",
              "          + ' to learn more about interactive tables.';\n",
              "        element.innerHTML = '';\n",
              "        dataTable['output_type'] = 'display_data';\n",
              "        await google.colab.output.renderOutput(dataTable, element);\n",
              "        const docLink = document.createElement('div');\n",
              "        docLink.innerHTML = docLinkHtml;\n",
              "        element.appendChild(docLink);\n",
              "      }\n",
              "    </script>\n",
              "  </div>\n",
              "\n",
              "\n",
              "<div id=\"df-dec4d379-54b6-4b86-a43c-be7b24918e26\">\n",
              "  <button class=\"colab-df-quickchart\" onclick=\"quickchart('df-dec4d379-54b6-4b86-a43c-be7b24918e26')\"\n",
              "            title=\"Suggest charts\"\n",
              "            style=\"display:none;\">\n",
              "\n",
              "<svg xmlns=\"http://www.w3.org/2000/svg\" height=\"24px\"viewBox=\"0 0 24 24\"\n",
              "     width=\"24px\">\n",
              "    <g>\n",
              "        <path d=\"M19 3H5c-1.1 0-2 .9-2 2v14c0 1.1.9 2 2 2h14c1.1 0 2-.9 2-2V5c0-1.1-.9-2-2-2zM9 17H7v-7h2v7zm4 0h-2V7h2v10zm4 0h-2v-4h2v4z\"/>\n",
              "    </g>\n",
              "</svg>\n",
              "  </button>\n",
              "\n",
              "<style>\n",
              "  .colab-df-quickchart {\n",
              "      --bg-color: #E8F0FE;\n",
              "      --fill-color: #1967D2;\n",
              "      --hover-bg-color: #E2EBFA;\n",
              "      --hover-fill-color: #174EA6;\n",
              "      --disabled-fill-color: #AAA;\n",
              "      --disabled-bg-color: #DDD;\n",
              "  }\n",
              "\n",
              "  [theme=dark] .colab-df-quickchart {\n",
              "      --bg-color: #3B4455;\n",
              "      --fill-color: #D2E3FC;\n",
              "      --hover-bg-color: #434B5C;\n",
              "      --hover-fill-color: #FFFFFF;\n",
              "      --disabled-bg-color: #3B4455;\n",
              "      --disabled-fill-color: #666;\n",
              "  }\n",
              "\n",
              "  .colab-df-quickchart {\n",
              "    background-color: var(--bg-color);\n",
              "    border: none;\n",
              "    border-radius: 50%;\n",
              "    cursor: pointer;\n",
              "    display: none;\n",
              "    fill: var(--fill-color);\n",
              "    height: 32px;\n",
              "    padding: 0;\n",
              "    width: 32px;\n",
              "  }\n",
              "\n",
              "  .colab-df-quickchart:hover {\n",
              "    background-color: var(--hover-bg-color);\n",
              "    box-shadow: 0 1px 2px rgba(60, 64, 67, 0.3), 0 1px 3px 1px rgba(60, 64, 67, 0.15);\n",
              "    fill: var(--button-hover-fill-color);\n",
              "  }\n",
              "\n",
              "  .colab-df-quickchart-complete:disabled,\n",
              "  .colab-df-quickchart-complete:disabled:hover {\n",
              "    background-color: var(--disabled-bg-color);\n",
              "    fill: var(--disabled-fill-color);\n",
              "    box-shadow: none;\n",
              "  }\n",
              "\n",
              "  .colab-df-spinner {\n",
              "    border: 2px solid var(--fill-color);\n",
              "    border-color: transparent;\n",
              "    border-bottom-color: var(--fill-color);\n",
              "    animation:\n",
              "      spin 1s steps(1) infinite;\n",
              "  }\n",
              "\n",
              "  @keyframes spin {\n",
              "    0% {\n",
              "      border-color: transparent;\n",
              "      border-bottom-color: var(--fill-color);\n",
              "      border-left-color: var(--fill-color);\n",
              "    }\n",
              "    20% {\n",
              "      border-color: transparent;\n",
              "      border-left-color: var(--fill-color);\n",
              "      border-top-color: var(--fill-color);\n",
              "    }\n",
              "    30% {\n",
              "      border-color: transparent;\n",
              "      border-left-color: var(--fill-color);\n",
              "      border-top-color: var(--fill-color);\n",
              "      border-right-color: var(--fill-color);\n",
              "    }\n",
              "    40% {\n",
              "      border-color: transparent;\n",
              "      border-right-color: var(--fill-color);\n",
              "      border-top-color: var(--fill-color);\n",
              "    }\n",
              "    60% {\n",
              "      border-color: transparent;\n",
              "      border-right-color: var(--fill-color);\n",
              "    }\n",
              "    80% {\n",
              "      border-color: transparent;\n",
              "      border-right-color: var(--fill-color);\n",
              "      border-bottom-color: var(--fill-color);\n",
              "    }\n",
              "    90% {\n",
              "      border-color: transparent;\n",
              "      border-bottom-color: var(--fill-color);\n",
              "    }\n",
              "  }\n",
              "</style>\n",
              "\n",
              "  <script>\n",
              "    async function quickchart(key) {\n",
              "      const quickchartButtonEl =\n",
              "        document.querySelector('#' + key + ' button');\n",
              "      quickchartButtonEl.disabled = true;  // To prevent multiple clicks.\n",
              "      quickchartButtonEl.classList.add('colab-df-spinner');\n",
              "      try {\n",
              "        const charts = await google.colab.kernel.invokeFunction(\n",
              "            'suggestCharts', [key], {});\n",
              "      } catch (error) {\n",
              "        console.error('Error during call to suggestCharts:', error);\n",
              "      }\n",
              "      quickchartButtonEl.classList.remove('colab-df-spinner');\n",
              "      quickchartButtonEl.classList.add('colab-df-quickchart-complete');\n",
              "    }\n",
              "    (() => {\n",
              "      let quickchartButtonEl =\n",
              "        document.querySelector('#df-dec4d379-54b6-4b86-a43c-be7b24918e26 button');\n",
              "      quickchartButtonEl.style.display =\n",
              "        google.colab.kernel.accessAllowed ? 'block' : 'none';\n",
              "    })();\n",
              "  </script>\n",
              "</div>\n",
              "    </div>\n",
              "  </div>\n"
            ]
          },
          "metadata": {},
          "execution_count": 51
        }
      ],
      "source": [
        "df.describe(include='category')"
      ]
    },
    {
      "cell_type": "markdown",
      "metadata": {
        "id": "zkmaMLGH-DSn"
      },
      "source": [
        "**Сколько классов в вашем целевом признаке?**\n",
        "\n",
        "Ответ:4"
      ]
    },
    {
      "cell_type": "markdown",
      "metadata": {
        "id": "l5wbgdlh-Qii"
      },
      "source": [
        "[link text](https://)Теперь оценим распределение по классам"
      ]
    },
    {
      "cell_type": "code",
      "execution_count": 52,
      "metadata": {
        "id": "IdWmAN6DwBJL",
        "colab": {
          "base_uri": "https://localhost:8080/",
          "height": 453
        },
        "outputId": "c698dcf8-85b0-4dbe-d234-3aff65979320"
      },
      "outputs": [
        {
          "output_type": "display_data",
          "data": {
            "text/plain": [
              "<Figure size 1200x500 with 1 Axes>"
            ],
            "image/svg+xml": "<?xml version=\"1.0\" encoding=\"utf-8\" standalone=\"no\"?>\n<!DOCTYPE svg PUBLIC \"-//W3C//DTD SVG 1.1//EN\"\n  \"http://www.w3.org/Graphics/SVG/1.1/DTD/svg11.dtd\">\n<svg xmlns:xlink=\"http://www.w3.org/1999/xlink\" width=\"710.0875pt\" height=\"323.39625pt\" viewBox=\"0 0 710.0875 323.39625\" xmlns=\"http://www.w3.org/2000/svg\" version=\"1.1\">\n <metadata>\n  <rdf:RDF xmlns:dc=\"http://purl.org/dc/elements/1.1/\" xmlns:cc=\"http://creativecommons.org/ns#\" xmlns:rdf=\"http://www.w3.org/1999/02/22-rdf-syntax-ns#\">\n   <cc:Work>\n    <dc:type rdf:resource=\"http://purl.org/dc/dcmitype/StillImage\"/>\n    <dc:date>2023-11-25T10:42:43.466211</dc:date>\n    <dc:format>image/svg+xml</dc:format>\n    <dc:creator>\n     <cc:Agent>\n      <dc:title>Matplotlib v3.7.1, https://matplotlib.org/</dc:title>\n     </cc:Agent>\n    </dc:creator>\n   </cc:Work>\n  </rdf:RDF>\n </metadata>\n <defs>\n  <style type=\"text/css\">*{stroke-linejoin: round; stroke-linecap: butt}</style>\n </defs>\n <g id=\"figure_1\">\n  <g id=\"patch_1\">\n   <path d=\"M 0 323.39625 \nL 710.0875 323.39625 \nL 710.0875 0 \nL 0 0 \nz\n\" style=\"fill: #ffffff\"/>\n  </g>\n  <g id=\"axes_1\">\n   <g id=\"patch_2\">\n    <path d=\"M 33.2875 299.518125 \nL 702.8875 299.518125 \nL 702.8875 22.318125 \nL 33.2875 22.318125 \nz\n\" style=\"fill: #ffffff\"/>\n   </g>\n   <g id=\"patch_3\">\n    <path d=\"M 50.0275 299.518125 \nL 183.9475 299.518125 \nL 183.9475 36.574125 \nL 50.0275 36.574125 \nz\n\" clip-path=\"url(#p83c271b7de)\" style=\"fill: #3274a1\"/>\n   </g>\n   <g id=\"patch_4\">\n    <path d=\"M 217.4275 299.518125 \nL 351.3475 299.518125 \nL 351.3475 35.518125 \nL 217.4275 35.518125 \nz\n\" clip-path=\"url(#p83c271b7de)\" style=\"fill: #e1812c\"/>\n   </g>\n   <g id=\"patch_5\">\n    <path d=\"M 384.8275 299.518125 \nL 518.7475 299.518125 \nL 518.7475 35.518125 \nL 384.8275 35.518125 \nz\n\" clip-path=\"url(#p83c271b7de)\" style=\"fill: #3a923a\"/>\n   </g>\n   <g id=\"patch_6\">\n    <path d=\"M 552.2275 299.518125 \nL 686.1475 299.518125 \nL 686.1475 35.518125 \nL 552.2275 35.518125 \nz\n\" clip-path=\"url(#p83c271b7de)\" style=\"fill: #c03d3e\"/>\n   </g>\n   <g id=\"matplotlib.axis_1\">\n    <g id=\"xtick_1\">\n     <g id=\"line2d_1\">\n      <defs>\n       <path id=\"m881131783a\" d=\"M 0 0 \nL 0 3.5 \n\" style=\"stroke: #000000; stroke-width: 0.8\"/>\n      </defs>\n      <g>\n       <use xlink:href=\"#m881131783a\" x=\"116.9875\" y=\"299.518125\" style=\"stroke: #000000; stroke-width: 0.8\"/>\n      </g>\n     </g>\n     <g id=\"text_1\">\n      <!-- 0 -->\n      <g transform=\"translate(113.80625 314.116563) scale(0.1 -0.1)\">\n       <defs>\n        <path id=\"DejaVuSans-30\" d=\"M 2034 4250 \nQ 1547 4250 1301 3770 \nQ 1056 3291 1056 2328 \nQ 1056 1369 1301 889 \nQ 1547 409 2034 409 \nQ 2525 409 2770 889 \nQ 3016 1369 3016 2328 \nQ 3016 3291 2770 3770 \nQ 2525 4250 2034 4250 \nz\nM 2034 4750 \nQ 2819 4750 3233 4129 \nQ 3647 3509 3647 2328 \nQ 3647 1150 3233 529 \nQ 2819 -91 2034 -91 \nQ 1250 -91 836 529 \nQ 422 1150 422 2328 \nQ 422 3509 836 4129 \nQ 1250 4750 2034 4750 \nz\n\" transform=\"scale(0.015625)\"/>\n       </defs>\n       <use xlink:href=\"#DejaVuSans-30\"/>\n      </g>\n     </g>\n    </g>\n    <g id=\"xtick_2\">\n     <g id=\"line2d_2\">\n      <g>\n       <use xlink:href=\"#m881131783a\" x=\"284.3875\" y=\"299.518125\" style=\"stroke: #000000; stroke-width: 0.8\"/>\n      </g>\n     </g>\n     <g id=\"text_2\">\n      <!-- 1 -->\n      <g transform=\"translate(281.20625 314.116563) scale(0.1 -0.1)\">\n       <defs>\n        <path id=\"DejaVuSans-31\" d=\"M 794 531 \nL 1825 531 \nL 1825 4091 \nL 703 3866 \nL 703 4441 \nL 1819 4666 \nL 2450 4666 \nL 2450 531 \nL 3481 531 \nL 3481 0 \nL 794 0 \nL 794 531 \nz\n\" transform=\"scale(0.015625)\"/>\n       </defs>\n       <use xlink:href=\"#DejaVuSans-31\"/>\n      </g>\n     </g>\n    </g>\n    <g id=\"xtick_3\">\n     <g id=\"line2d_3\">\n      <g>\n       <use xlink:href=\"#m881131783a\" x=\"451.7875\" y=\"299.518125\" style=\"stroke: #000000; stroke-width: 0.8\"/>\n      </g>\n     </g>\n     <g id=\"text_3\">\n      <!-- 2 -->\n      <g transform=\"translate(448.60625 314.116563) scale(0.1 -0.1)\">\n       <defs>\n        <path id=\"DejaVuSans-32\" d=\"M 1228 531 \nL 3431 531 \nL 3431 0 \nL 469 0 \nL 469 531 \nQ 828 903 1448 1529 \nQ 2069 2156 2228 2338 \nQ 2531 2678 2651 2914 \nQ 2772 3150 2772 3378 \nQ 2772 3750 2511 3984 \nQ 2250 4219 1831 4219 \nQ 1534 4219 1204 4116 \nQ 875 4013 500 3803 \nL 500 4441 \nQ 881 4594 1212 4672 \nQ 1544 4750 1819 4750 \nQ 2544 4750 2975 4387 \nQ 3406 4025 3406 3419 \nQ 3406 3131 3298 2873 \nQ 3191 2616 2906 2266 \nQ 2828 2175 2409 1742 \nQ 1991 1309 1228 531 \nz\n\" transform=\"scale(0.015625)\"/>\n       </defs>\n       <use xlink:href=\"#DejaVuSans-32\"/>\n      </g>\n     </g>\n    </g>\n    <g id=\"xtick_4\">\n     <g id=\"line2d_4\">\n      <g>\n       <use xlink:href=\"#m881131783a\" x=\"619.1875\" y=\"299.518125\" style=\"stroke: #000000; stroke-width: 0.8\"/>\n      </g>\n     </g>\n     <g id=\"text_4\">\n      <!-- 3 -->\n      <g transform=\"translate(616.00625 314.116563) scale(0.1 -0.1)\">\n       <defs>\n        <path id=\"DejaVuSans-33\" d=\"M 2597 2516 \nQ 3050 2419 3304 2112 \nQ 3559 1806 3559 1356 \nQ 3559 666 3084 287 \nQ 2609 -91 1734 -91 \nQ 1441 -91 1130 -33 \nQ 819 25 488 141 \nL 488 750 \nQ 750 597 1062 519 \nQ 1375 441 1716 441 \nQ 2309 441 2620 675 \nQ 2931 909 2931 1356 \nQ 2931 1769 2642 2001 \nQ 2353 2234 1838 2234 \nL 1294 2234 \nL 1294 2753 \nL 1863 2753 \nQ 2328 2753 2575 2939 \nQ 2822 3125 2822 3475 \nQ 2822 3834 2567 4026 \nQ 2313 4219 1838 4219 \nQ 1578 4219 1281 4162 \nQ 984 4106 628 3988 \nL 628 4550 \nQ 988 4650 1302 4700 \nQ 1616 4750 1894 4750 \nQ 2613 4750 3031 4423 \nQ 3450 4097 3450 3541 \nQ 3450 3153 3228 2886 \nQ 3006 2619 2597 2516 \nz\n\" transform=\"scale(0.015625)\"/>\n       </defs>\n       <use xlink:href=\"#DejaVuSans-33\"/>\n      </g>\n     </g>\n    </g>\n   </g>\n   <g id=\"matplotlib.axis_2\">\n    <g id=\"ytick_1\">\n     <g id=\"line2d_5\">\n      <defs>\n       <path id=\"me2de8895b3\" d=\"M 0 0 \nL -3.5 0 \n\" style=\"stroke: #000000; stroke-width: 0.8\"/>\n      </defs>\n      <g>\n       <use xlink:href=\"#me2de8895b3\" x=\"33.2875\" y=\"299.518125\" style=\"stroke: #000000; stroke-width: 0.8\"/>\n      </g>\n     </g>\n     <g id=\"text_5\">\n      <!-- 0 -->\n      <g transform=\"translate(19.925 303.317344) scale(0.1 -0.1)\">\n       <use xlink:href=\"#DejaVuSans-30\"/>\n      </g>\n     </g>\n    </g>\n    <g id=\"ytick_2\">\n     <g id=\"line2d_6\">\n      <g>\n       <use xlink:href=\"#me2de8895b3\" x=\"33.2875\" y=\"246.718125\" style=\"stroke: #000000; stroke-width: 0.8\"/>\n      </g>\n     </g>\n     <g id=\"text_6\">\n      <!-- 50 -->\n      <g transform=\"translate(13.5625 250.517344) scale(0.1 -0.1)\">\n       <defs>\n        <path id=\"DejaVuSans-35\" d=\"M 691 4666 \nL 3169 4666 \nL 3169 4134 \nL 1269 4134 \nL 1269 2991 \nQ 1406 3038 1543 3061 \nQ 1681 3084 1819 3084 \nQ 2600 3084 3056 2656 \nQ 3513 2228 3513 1497 \nQ 3513 744 3044 326 \nQ 2575 -91 1722 -91 \nQ 1428 -91 1123 -41 \nQ 819 9 494 109 \nL 494 744 \nQ 775 591 1075 516 \nQ 1375 441 1709 441 \nQ 2250 441 2565 725 \nQ 2881 1009 2881 1497 \nQ 2881 1984 2565 2268 \nQ 2250 2553 1709 2553 \nQ 1456 2553 1204 2497 \nQ 953 2441 691 2322 \nL 691 4666 \nz\n\" transform=\"scale(0.015625)\"/>\n       </defs>\n       <use xlink:href=\"#DejaVuSans-35\"/>\n       <use xlink:href=\"#DejaVuSans-30\" x=\"63.623047\"/>\n      </g>\n     </g>\n    </g>\n    <g id=\"ytick_3\">\n     <g id=\"line2d_7\">\n      <g>\n       <use xlink:href=\"#me2de8895b3\" x=\"33.2875\" y=\"193.918125\" style=\"stroke: #000000; stroke-width: 0.8\"/>\n      </g>\n     </g>\n     <g id=\"text_7\">\n      <!-- 100 -->\n      <g transform=\"translate(7.2 197.717344) scale(0.1 -0.1)\">\n       <use xlink:href=\"#DejaVuSans-31\"/>\n       <use xlink:href=\"#DejaVuSans-30\" x=\"63.623047\"/>\n       <use xlink:href=\"#DejaVuSans-30\" x=\"127.246094\"/>\n      </g>\n     </g>\n    </g>\n    <g id=\"ytick_4\">\n     <g id=\"line2d_8\">\n      <g>\n       <use xlink:href=\"#me2de8895b3\" x=\"33.2875\" y=\"141.118125\" style=\"stroke: #000000; stroke-width: 0.8\"/>\n      </g>\n     </g>\n     <g id=\"text_8\">\n      <!-- 150 -->\n      <g transform=\"translate(7.2 144.917344) scale(0.1 -0.1)\">\n       <use xlink:href=\"#DejaVuSans-31\"/>\n       <use xlink:href=\"#DejaVuSans-35\" x=\"63.623047\"/>\n       <use xlink:href=\"#DejaVuSans-30\" x=\"127.246094\"/>\n      </g>\n     </g>\n    </g>\n    <g id=\"ytick_5\">\n     <g id=\"line2d_9\">\n      <g>\n       <use xlink:href=\"#me2de8895b3\" x=\"33.2875\" y=\"88.318125\" style=\"stroke: #000000; stroke-width: 0.8\"/>\n      </g>\n     </g>\n     <g id=\"text_9\">\n      <!-- 200 -->\n      <g transform=\"translate(7.2 92.117344) scale(0.1 -0.1)\">\n       <use xlink:href=\"#DejaVuSans-32\"/>\n       <use xlink:href=\"#DejaVuSans-30\" x=\"63.623047\"/>\n       <use xlink:href=\"#DejaVuSans-30\" x=\"127.246094\"/>\n      </g>\n     </g>\n    </g>\n    <g id=\"ytick_6\">\n     <g id=\"line2d_10\">\n      <g>\n       <use xlink:href=\"#me2de8895b3\" x=\"33.2875\" y=\"35.518125\" style=\"stroke: #000000; stroke-width: 0.8\"/>\n      </g>\n     </g>\n     <g id=\"text_10\">\n      <!-- 250 -->\n      <g transform=\"translate(7.2 39.317344) scale(0.1 -0.1)\">\n       <use xlink:href=\"#DejaVuSans-32\"/>\n       <use xlink:href=\"#DejaVuSans-35\" x=\"63.623047\"/>\n       <use xlink:href=\"#DejaVuSans-30\" x=\"127.246094\"/>\n      </g>\n     </g>\n    </g>\n   </g>\n   <g id=\"line2d_11\">\n    <path clip-path=\"url(#p83c271b7de)\" style=\"fill: none; stroke: #424242; stroke-width: 2.7; stroke-linecap: square\"/>\n   </g>\n   <g id=\"line2d_12\">\n    <path clip-path=\"url(#p83c271b7de)\" style=\"fill: none; stroke: #424242; stroke-width: 2.7; stroke-linecap: square\"/>\n   </g>\n   <g id=\"line2d_13\">\n    <path clip-path=\"url(#p83c271b7de)\" style=\"fill: none; stroke: #424242; stroke-width: 2.7; stroke-linecap: square\"/>\n   </g>\n   <g id=\"line2d_14\">\n    <path clip-path=\"url(#p83c271b7de)\" style=\"fill: none; stroke: #424242; stroke-width: 2.7; stroke-linecap: square\"/>\n   </g>\n   <g id=\"patch_7\">\n    <path d=\"M 33.2875 299.518125 \nL 33.2875 22.318125 \n\" style=\"fill: none; stroke: #000000; stroke-width: 0.8; stroke-linejoin: miter; stroke-linecap: square\"/>\n   </g>\n   <g id=\"patch_8\">\n    <path d=\"M 702.8875 299.518125 \nL 702.8875 22.318125 \n\" style=\"fill: none; stroke: #000000; stroke-width: 0.8; stroke-linejoin: miter; stroke-linecap: square\"/>\n   </g>\n   <g id=\"patch_9\">\n    <path d=\"M 33.2875 299.518125 \nL 702.8875 299.518125 \n\" style=\"fill: none; stroke: #000000; stroke-width: 0.8; stroke-linejoin: miter; stroke-linecap: square\"/>\n   </g>\n   <g id=\"patch_10\">\n    <path d=\"M 33.2875 22.318125 \nL 702.8875 22.318125 \n\" style=\"fill: none; stroke: #000000; stroke-width: 0.8; stroke-linejoin: miter; stroke-linecap: square\"/>\n   </g>\n   <g id=\"text_11\">\n    <!-- Распределение по классам -->\n    <g transform=\"translate(281.844063 16.318125) scale(0.12 -0.12)\">\n     <defs>\n      <path id=\"DejaVuSans-420\" d=\"M 1259 4147 \nL 1259 2394 \nL 2053 2394 \nQ 2494 2394 2734 2622 \nQ 2975 2850 2975 3272 \nQ 2975 3691 2734 3919 \nQ 2494 4147 2053 4147 \nL 1259 4147 \nz\nM 628 4666 \nL 2053 4666 \nQ 2838 4666 3239 4311 \nQ 3641 3956 3641 3272 \nQ 3641 2581 3239 2228 \nQ 2838 1875 2053 1875 \nL 1259 1875 \nL 1259 0 \nL 628 0 \nL 628 4666 \nz\n\" transform=\"scale(0.015625)\"/>\n      <path id=\"DejaVuSans-430\" d=\"M 2194 1759 \nQ 1497 1759 1228 1600 \nQ 959 1441 959 1056 \nQ 959 750 1161 570 \nQ 1363 391 1709 391 \nQ 2188 391 2477 730 \nQ 2766 1069 2766 1631 \nL 2766 1759 \nL 2194 1759 \nz\nM 3341 1997 \nL 3341 0 \nL 2766 0 \nL 2766 531 \nQ 2569 213 2275 61 \nQ 1981 -91 1556 -91 \nQ 1019 -91 701 211 \nQ 384 513 384 1019 \nQ 384 1609 779 1909 \nQ 1175 2209 1959 2209 \nL 2766 2209 \nL 2766 2266 \nQ 2766 2663 2505 2880 \nQ 2244 3097 1772 3097 \nQ 1472 3097 1187 3025 \nQ 903 2953 641 2809 \nL 641 3341 \nQ 956 3463 1253 3523 \nQ 1550 3584 1831 3584 \nQ 2591 3584 2966 3190 \nQ 3341 2797 3341 1997 \nz\n\" transform=\"scale(0.015625)\"/>\n      <path id=\"DejaVuSans-441\" d=\"M 3122 3366 \nL 3122 2828 \nQ 2878 2963 2633 3030 \nQ 2388 3097 2138 3097 \nQ 1578 3097 1268 2742 \nQ 959 2388 959 1747 \nQ 959 1106 1268 751 \nQ 1578 397 2138 397 \nQ 2388 397 2633 464 \nQ 2878 531 3122 666 \nL 3122 134 \nQ 2881 22 2623 -34 \nQ 2366 -91 2075 -91 \nQ 1284 -91 818 406 \nQ 353 903 353 1747 \nQ 353 2603 823 3093 \nQ 1294 3584 2113 3584 \nQ 2378 3584 2631 3529 \nQ 2884 3475 3122 3366 \nz\n\" transform=\"scale(0.015625)\"/>\n      <path id=\"DejaVuSans-43f\" d=\"M 3603 3500 \nL 3603 0 \nL 3025 0 \nL 3025 3041 \nL 1159 3041 \nL 1159 0 \nL 581 0 \nL 581 3500 \nL 3603 3500 \nz\n\" transform=\"scale(0.015625)\"/>\n      <path id=\"DejaVuSans-440\" d=\"M 1159 525 \nL 1159 -1331 \nL 581 -1331 \nL 581 3500 \nL 1159 3500 \nL 1159 2969 \nQ 1341 3281 1617 3432 \nQ 1894 3584 2278 3584 \nQ 2916 3584 3314 3078 \nQ 3713 2572 3713 1747 \nQ 3713 922 3314 415 \nQ 2916 -91 2278 -91 \nQ 1894 -91 1617 61 \nQ 1341 213 1159 525 \nz\nM 3116 1747 \nQ 3116 2381 2855 2742 \nQ 2594 3103 2138 3103 \nQ 1681 3103 1420 2742 \nQ 1159 2381 1159 1747 \nQ 1159 1113 1420 752 \nQ 1681 391 2138 391 \nQ 2594 391 2855 752 \nQ 3116 1113 3116 1747 \nz\n\" transform=\"scale(0.015625)\"/>\n      <path id=\"DejaVuSans-435\" d=\"M 3597 1894 \nL 3597 1613 \nL 953 1613 \nQ 991 1019 1311 708 \nQ 1631 397 2203 397 \nQ 2534 397 2845 478 \nQ 3156 559 3463 722 \nL 3463 178 \nQ 3153 47 2828 -22 \nQ 2503 -91 2169 -91 \nQ 1331 -91 842 396 \nQ 353 884 353 1716 \nQ 353 2575 817 3079 \nQ 1281 3584 2069 3584 \nQ 2775 3584 3186 3129 \nQ 3597 2675 3597 1894 \nz\nM 3022 2063 \nQ 3016 2534 2758 2815 \nQ 2500 3097 2075 3097 \nQ 1594 3097 1305 2825 \nQ 1016 2553 972 2059 \nL 3022 2063 \nz\n\" transform=\"scale(0.015625)\"/>\n      <path id=\"DejaVuSans-434\" d=\"M 1384 459 \nL 3053 459 \nL 3053 3041 \nL 1844 3041 \nL 1844 2603 \nQ 1844 1316 1475 628 \nL 1384 459 \nz\nM 550 459 \nQ 834 584 959 850 \nQ 1266 1509 1266 2838 \nL 1266 3500 \nL 3631 3500 \nL 3631 459 \nL 4091 459 \nL 4091 -884 \nL 3631 -884 \nL 3631 0 \nL 794 0 \nL 794 -884 \nL 334 -884 \nL 334 459 \nL 550 459 \nz\n\" transform=\"scale(0.015625)\"/>\n      <path id=\"DejaVuSans-43b\" d=\"M 238 0 \nL 238 478 \nQ 806 566 981 959 \nQ 1194 1513 1194 2928 \nL 1194 3500 \nL 3559 3500 \nL 3559 0 \nL 2984 0 \nL 2984 3041 \nL 1769 3041 \nL 1769 2694 \nQ 1769 1344 1494 738 \nQ 1200 91 238 0 \nz\n\" transform=\"scale(0.015625)\"/>\n      <path id=\"DejaVuSans-43d\" d=\"M 581 3500 \nL 1159 3500 \nL 1159 2072 \nL 3025 2072 \nL 3025 3500 \nL 3603 3500 \nL 3603 0 \nL 3025 0 \nL 3025 1613 \nL 1159 1613 \nL 1159 0 \nL 581 0 \nL 581 3500 \nz\n\" transform=\"scale(0.015625)\"/>\n      <path id=\"DejaVuSans-438\" d=\"M 3578 3500 \nL 3578 0 \nL 3006 0 \nL 3006 2809 \nL 1319 0 \nL 581 0 \nL 581 3500 \nL 1153 3500 \nL 1153 697 \nL 2838 3500 \nL 3578 3500 \nz\n\" transform=\"scale(0.015625)\"/>\n      <path id=\"DejaVuSans-20\" transform=\"scale(0.015625)\"/>\n      <path id=\"DejaVuSans-43e\" d=\"M 1959 3097 \nQ 1497 3097 1228 2736 \nQ 959 2375 959 1747 \nQ 959 1119 1226 758 \nQ 1494 397 1959 397 \nQ 2419 397 2687 759 \nQ 2956 1122 2956 1747 \nQ 2956 2369 2687 2733 \nQ 2419 3097 1959 3097 \nz\nM 1959 3584 \nQ 2709 3584 3137 3096 \nQ 3566 2609 3566 1747 \nQ 3566 888 3137 398 \nQ 2709 -91 1959 -91 \nQ 1206 -91 779 398 \nQ 353 888 353 1747 \nQ 353 2609 779 3096 \nQ 1206 3584 1959 3584 \nz\n\" transform=\"scale(0.015625)\"/>\n      <path id=\"DejaVuSans-43a\" d=\"M 581 3500 \nL 1153 3500 \nL 1153 1856 \nL 2775 3500 \nL 3481 3500 \nL 2144 2147 \nL 3653 0 \nL 3009 0 \nL 1769 1766 \nL 1153 1141 \nL 1153 0 \nL 581 0 \nL 581 3500 \nz\n\" transform=\"scale(0.015625)\"/>\n      <path id=\"DejaVuSans-43c\" d=\"M 581 3500 \nL 1422 3500 \nL 2416 1156 \nL 3413 3500 \nL 4247 3500 \nL 4247 0 \nL 3669 0 \nL 3669 2950 \nL 2703 672 \nL 2128 672 \nL 1159 2950 \nL 1159 0 \nL 581 0 \nL 581 3500 \nz\n\" transform=\"scale(0.015625)\"/>\n     </defs>\n     <use xlink:href=\"#DejaVuSans-420\"/>\n     <use xlink:href=\"#DejaVuSans-430\" x=\"60.302734\"/>\n     <use xlink:href=\"#DejaVuSans-441\" x=\"121.582031\"/>\n     <use xlink:href=\"#DejaVuSans-43f\" x=\"176.5625\"/>\n     <use xlink:href=\"#DejaVuSans-440\" x=\"241.943359\"/>\n     <use xlink:href=\"#DejaVuSans-435\" x=\"305.419922\"/>\n     <use xlink:href=\"#DejaVuSans-434\" x=\"366.943359\"/>\n     <use xlink:href=\"#DejaVuSans-435\" x=\"436.083984\"/>\n     <use xlink:href=\"#DejaVuSans-43b\" x=\"497.607422\"/>\n     <use xlink:href=\"#DejaVuSans-435\" x=\"561.523438\"/>\n     <use xlink:href=\"#DejaVuSans-43d\" x=\"623.046875\"/>\n     <use xlink:href=\"#DejaVuSans-438\" x=\"688.427734\"/>\n     <use xlink:href=\"#DejaVuSans-435\" x=\"753.417969\"/>\n     <use xlink:href=\"#DejaVuSans-20\" x=\"814.941406\"/>\n     <use xlink:href=\"#DejaVuSans-43f\" x=\"846.728516\"/>\n     <use xlink:href=\"#DejaVuSans-43e\" x=\"912.109375\"/>\n     <use xlink:href=\"#DejaVuSans-20\" x=\"973.291016\"/>\n     <use xlink:href=\"#DejaVuSans-43a\" x=\"1005.078125\"/>\n     <use xlink:href=\"#DejaVuSans-43b\" x=\"1065.478516\"/>\n     <use xlink:href=\"#DejaVuSans-430\" x=\"1129.394531\"/>\n     <use xlink:href=\"#DejaVuSans-441\" x=\"1190.673828\"/>\n     <use xlink:href=\"#DejaVuSans-441\" x=\"1245.654297\"/>\n     <use xlink:href=\"#DejaVuSans-430\" x=\"1300.634766\"/>\n     <use xlink:href=\"#DejaVuSans-43c\" x=\"1361.914062\"/>\n    </g>\n   </g>\n  </g>\n </g>\n <defs>\n  <clipPath id=\"p83c271b7de\">\n   <rect x=\"33.2875\" y=\"22.318125\" width=\"669.6\" height=\"277.2\"/>\n  </clipPath>\n </defs>\n</svg>\n"
          },
          "metadata": {}
        }
      ],
      "source": [
        "labels, counts = np.unique(df['target'], return_counts=True)\n",
        "fig, axs = plt.subplots(ncols=1)\n",
        "sns.barplot(x=[str(label) for label in labels], y=counts, ax=axs).set_title(\"Распределение по классам\")\n",
        "plt.show()"
      ]
    },
    {
      "cell_type": "markdown",
      "metadata": {
        "id": "y0ma-le8-m6E"
      },
      "source": [
        "**Равномерное ли у вас распреденеие по классам?**\n",
        "\n",
        "Ответ:да"
      ]
    },
    {
      "cell_type": "markdown",
      "metadata": {
        "id": "_5o0WG_r-5J2"
      },
      "source": [
        "## Подготовка данных для работы с моделью"
      ]
    },
    {
      "cell_type": "markdown",
      "metadata": {
        "id": "dzIBoMw4BQD0"
      },
      "source": [
        "Разделим наши признаки и метки классов."
      ]
    },
    {
      "cell_type": "code",
      "execution_count": 53,
      "metadata": {
        "id": "eI4i5iHS_UhK"
      },
      "outputs": [],
      "source": [
        "y = df.pop('target')\n",
        "X = df"
      ]
    },
    {
      "cell_type": "markdown",
      "metadata": {
        "id": "xIBKyiro_5QL"
      },
      "source": [
        "Далее используя метод `train_test_split()` разделите данные на обучающую и проверочную части. В тестовую часть выделите 15% ваши данных и укажите random_state для воспроизводимости вашего результата."
      ]
    },
    {
      "cell_type": "code",
      "execution_count": 56,
      "metadata": {
        "id": "-Zii7Z5-oTUU"
      },
      "outputs": [],
      "source": [
        "X_train, X_test, y_train, y_test = train_test_split(X,y,train_size=0.85,random_state=43)"
      ]
    },
    {
      "cell_type": "code",
      "execution_count": 57,
      "metadata": {
        "id": "SnCbcC8hMKBa",
        "colab": {
          "base_uri": "https://localhost:8080/",
          "height": 453
        },
        "outputId": "5ab39896-a48e-4d21-bc77-12f9f8029e03"
      },
      "outputs": [
        {
          "output_type": "display_data",
          "data": {
            "text/plain": [
              "<Figure size 1200x500 with 1 Axes>"
            ],
            "image/svg+xml": "<?xml version=\"1.0\" encoding=\"utf-8\" standalone=\"no\"?>\n<!DOCTYPE svg PUBLIC \"-//W3C//DTD SVG 1.1//EN\"\n  \"http://www.w3.org/Graphics/SVG/1.1/DTD/svg11.dtd\">\n<svg xmlns:xlink=\"http://www.w3.org/1999/xlink\" width=\"703.725pt\" height=\"323.600625pt\" viewBox=\"0 0 703.725 323.600625\" xmlns=\"http://www.w3.org/2000/svg\" version=\"1.1\">\n <metadata>\n  <rdf:RDF xmlns:dc=\"http://purl.org/dc/elements/1.1/\" xmlns:cc=\"http://creativecommons.org/ns#\" xmlns:rdf=\"http://www.w3.org/1999/02/22-rdf-syntax-ns#\">\n   <cc:Work>\n    <dc:type rdf:resource=\"http://purl.org/dc/dcmitype/StillImage\"/>\n    <dc:date>2023-11-25T10:44:00.273765</dc:date>\n    <dc:format>image/svg+xml</dc:format>\n    <dc:creator>\n     <cc:Agent>\n      <dc:title>Matplotlib v3.7.1, https://matplotlib.org/</dc:title>\n     </cc:Agent>\n    </dc:creator>\n   </cc:Work>\n  </rdf:RDF>\n </metadata>\n <defs>\n  <style type=\"text/css\">*{stroke-linejoin: round; stroke-linecap: butt}</style>\n </defs>\n <g id=\"figure_1\">\n  <g id=\"patch_1\">\n   <path d=\"M 0 323.600625 \nL 703.725 323.600625 \nL 703.725 0 \nL 0 0 \nz\n\" style=\"fill: #ffffff\"/>\n  </g>\n  <g id=\"axes_1\">\n   <g id=\"patch_2\">\n    <path d=\"M 26.925 299.7225 \nL 696.525 299.7225 \nL 696.525 22.5225 \nL 26.925 22.5225 \nz\n\" style=\"fill: #ffffff\"/>\n   </g>\n   <g id=\"patch_3\">\n    <path d=\"M 43.665 299.7225 \nL 177.585 299.7225 \nL 177.585 35.7225 \nL 43.665 35.7225 \nz\n\" clip-path=\"url(#p2daa122fbd)\" style=\"fill: #3274a1\"/>\n   </g>\n   <g id=\"patch_4\">\n    <path d=\"M 211.065 299.7225 \nL 344.985 299.7225 \nL 344.985 75.3225 \nL 211.065 75.3225 \nz\n\" clip-path=\"url(#p2daa122fbd)\" style=\"fill: #e1812c\"/>\n   </g>\n   <g id=\"patch_5\">\n    <path d=\"M 378.465 299.7225 \nL 512.385 299.7225 \nL 512.385 55.5225 \nL 378.465 55.5225 \nz\n\" clip-path=\"url(#p2daa122fbd)\" style=\"fill: #3a923a\"/>\n   </g>\n   <g id=\"patch_6\">\n    <path d=\"M 545.865 299.7225 \nL 679.785 299.7225 \nL 679.785 42.3225 \nL 545.865 42.3225 \nz\n\" clip-path=\"url(#p2daa122fbd)\" style=\"fill: #c03d3e\"/>\n   </g>\n   <g id=\"matplotlib.axis_1\">\n    <g id=\"xtick_1\">\n     <g id=\"line2d_1\">\n      <defs>\n       <path id=\"m7b39674689\" d=\"M 0 0 \nL 0 3.5 \n\" style=\"stroke: #000000; stroke-width: 0.8\"/>\n      </defs>\n      <g>\n       <use xlink:href=\"#m7b39674689\" x=\"110.625\" y=\"299.7225\" style=\"stroke: #000000; stroke-width: 0.8\"/>\n      </g>\n     </g>\n     <g id=\"text_1\">\n      <!-- 0 -->\n      <g transform=\"translate(107.44375 314.320938) scale(0.1 -0.1)\">\n       <defs>\n        <path id=\"DejaVuSans-30\" d=\"M 2034 4250 \nQ 1547 4250 1301 3770 \nQ 1056 3291 1056 2328 \nQ 1056 1369 1301 889 \nQ 1547 409 2034 409 \nQ 2525 409 2770 889 \nQ 3016 1369 3016 2328 \nQ 3016 3291 2770 3770 \nQ 2525 4250 2034 4250 \nz\nM 2034 4750 \nQ 2819 4750 3233 4129 \nQ 3647 3509 3647 2328 \nQ 3647 1150 3233 529 \nQ 2819 -91 2034 -91 \nQ 1250 -91 836 529 \nQ 422 1150 422 2328 \nQ 422 3509 836 4129 \nQ 1250 4750 2034 4750 \nz\n\" transform=\"scale(0.015625)\"/>\n       </defs>\n       <use xlink:href=\"#DejaVuSans-30\"/>\n      </g>\n     </g>\n    </g>\n    <g id=\"xtick_2\">\n     <g id=\"line2d_2\">\n      <g>\n       <use xlink:href=\"#m7b39674689\" x=\"278.025\" y=\"299.7225\" style=\"stroke: #000000; stroke-width: 0.8\"/>\n      </g>\n     </g>\n     <g id=\"text_2\">\n      <!-- 1 -->\n      <g transform=\"translate(274.84375 314.320938) scale(0.1 -0.1)\">\n       <defs>\n        <path id=\"DejaVuSans-31\" d=\"M 794 531 \nL 1825 531 \nL 1825 4091 \nL 703 3866 \nL 703 4441 \nL 1819 4666 \nL 2450 4666 \nL 2450 531 \nL 3481 531 \nL 3481 0 \nL 794 0 \nL 794 531 \nz\n\" transform=\"scale(0.015625)\"/>\n       </defs>\n       <use xlink:href=\"#DejaVuSans-31\"/>\n      </g>\n     </g>\n    </g>\n    <g id=\"xtick_3\">\n     <g id=\"line2d_3\">\n      <g>\n       <use xlink:href=\"#m7b39674689\" x=\"445.425\" y=\"299.7225\" style=\"stroke: #000000; stroke-width: 0.8\"/>\n      </g>\n     </g>\n     <g id=\"text_3\">\n      <!-- 2 -->\n      <g transform=\"translate(442.24375 314.320938) scale(0.1 -0.1)\">\n       <defs>\n        <path id=\"DejaVuSans-32\" d=\"M 1228 531 \nL 3431 531 \nL 3431 0 \nL 469 0 \nL 469 531 \nQ 828 903 1448 1529 \nQ 2069 2156 2228 2338 \nQ 2531 2678 2651 2914 \nQ 2772 3150 2772 3378 \nQ 2772 3750 2511 3984 \nQ 2250 4219 1831 4219 \nQ 1534 4219 1204 4116 \nQ 875 4013 500 3803 \nL 500 4441 \nQ 881 4594 1212 4672 \nQ 1544 4750 1819 4750 \nQ 2544 4750 2975 4387 \nQ 3406 4025 3406 3419 \nQ 3406 3131 3298 2873 \nQ 3191 2616 2906 2266 \nQ 2828 2175 2409 1742 \nQ 1991 1309 1228 531 \nz\n\" transform=\"scale(0.015625)\"/>\n       </defs>\n       <use xlink:href=\"#DejaVuSans-32\"/>\n      </g>\n     </g>\n    </g>\n    <g id=\"xtick_4\">\n     <g id=\"line2d_4\">\n      <g>\n       <use xlink:href=\"#m7b39674689\" x=\"612.825\" y=\"299.7225\" style=\"stroke: #000000; stroke-width: 0.8\"/>\n      </g>\n     </g>\n     <g id=\"text_4\">\n      <!-- 3 -->\n      <g transform=\"translate(609.64375 314.320938) scale(0.1 -0.1)\">\n       <defs>\n        <path id=\"DejaVuSans-33\" d=\"M 2597 2516 \nQ 3050 2419 3304 2112 \nQ 3559 1806 3559 1356 \nQ 3559 666 3084 287 \nQ 2609 -91 1734 -91 \nQ 1441 -91 1130 -33 \nQ 819 25 488 141 \nL 488 750 \nQ 750 597 1062 519 \nQ 1375 441 1716 441 \nQ 2309 441 2620 675 \nQ 2931 909 2931 1356 \nQ 2931 1769 2642 2001 \nQ 2353 2234 1838 2234 \nL 1294 2234 \nL 1294 2753 \nL 1863 2753 \nQ 2328 2753 2575 2939 \nQ 2822 3125 2822 3475 \nQ 2822 3834 2567 4026 \nQ 2313 4219 1838 4219 \nQ 1578 4219 1281 4162 \nQ 984 4106 628 3988 \nL 628 4550 \nQ 988 4650 1302 4700 \nQ 1616 4750 1894 4750 \nQ 2613 4750 3031 4423 \nQ 3450 4097 3450 3541 \nQ 3450 3153 3228 2886 \nQ 3006 2619 2597 2516 \nz\n\" transform=\"scale(0.015625)\"/>\n       </defs>\n       <use xlink:href=\"#DejaVuSans-33\"/>\n      </g>\n     </g>\n    </g>\n   </g>\n   <g id=\"matplotlib.axis_2\">\n    <g id=\"ytick_1\">\n     <g id=\"line2d_5\">\n      <defs>\n       <path id=\"mae73e443f2\" d=\"M 0 0 \nL -3.5 0 \n\" style=\"stroke: #000000; stroke-width: 0.8\"/>\n      </defs>\n      <g>\n       <use xlink:href=\"#mae73e443f2\" x=\"26.925\" y=\"299.7225\" style=\"stroke: #000000; stroke-width: 0.8\"/>\n      </g>\n     </g>\n     <g id=\"text_5\">\n      <!-- 0 -->\n      <g transform=\"translate(13.5625 303.521719) scale(0.1 -0.1)\">\n       <use xlink:href=\"#DejaVuSans-30\"/>\n      </g>\n     </g>\n    </g>\n    <g id=\"ytick_2\">\n     <g id=\"line2d_6\">\n      <g>\n       <use xlink:href=\"#mae73e443f2\" x=\"26.925\" y=\"266.7225\" style=\"stroke: #000000; stroke-width: 0.8\"/>\n      </g>\n     </g>\n     <g id=\"text_6\">\n      <!-- 5 -->\n      <g transform=\"translate(13.5625 270.521719) scale(0.1 -0.1)\">\n       <defs>\n        <path id=\"DejaVuSans-35\" d=\"M 691 4666 \nL 3169 4666 \nL 3169 4134 \nL 1269 4134 \nL 1269 2991 \nQ 1406 3038 1543 3061 \nQ 1681 3084 1819 3084 \nQ 2600 3084 3056 2656 \nQ 3513 2228 3513 1497 \nQ 3513 744 3044 326 \nQ 2575 -91 1722 -91 \nQ 1428 -91 1123 -41 \nQ 819 9 494 109 \nL 494 744 \nQ 775 591 1075 516 \nQ 1375 441 1709 441 \nQ 2250 441 2565 725 \nQ 2881 1009 2881 1497 \nQ 2881 1984 2565 2268 \nQ 2250 2553 1709 2553 \nQ 1456 2553 1204 2497 \nQ 953 2441 691 2322 \nL 691 4666 \nz\n\" transform=\"scale(0.015625)\"/>\n       </defs>\n       <use xlink:href=\"#DejaVuSans-35\"/>\n      </g>\n     </g>\n    </g>\n    <g id=\"ytick_3\">\n     <g id=\"line2d_7\">\n      <g>\n       <use xlink:href=\"#mae73e443f2\" x=\"26.925\" y=\"233.7225\" style=\"stroke: #000000; stroke-width: 0.8\"/>\n      </g>\n     </g>\n     <g id=\"text_7\">\n      <!-- 10 -->\n      <g transform=\"translate(7.2 237.521719) scale(0.1 -0.1)\">\n       <use xlink:href=\"#DejaVuSans-31\"/>\n       <use xlink:href=\"#DejaVuSans-30\" x=\"63.623047\"/>\n      </g>\n     </g>\n    </g>\n    <g id=\"ytick_4\">\n     <g id=\"line2d_8\">\n      <g>\n       <use xlink:href=\"#mae73e443f2\" x=\"26.925\" y=\"200.7225\" style=\"stroke: #000000; stroke-width: 0.8\"/>\n      </g>\n     </g>\n     <g id=\"text_8\">\n      <!-- 15 -->\n      <g transform=\"translate(7.2 204.521719) scale(0.1 -0.1)\">\n       <use xlink:href=\"#DejaVuSans-31\"/>\n       <use xlink:href=\"#DejaVuSans-35\" x=\"63.623047\"/>\n      </g>\n     </g>\n    </g>\n    <g id=\"ytick_5\">\n     <g id=\"line2d_9\">\n      <g>\n       <use xlink:href=\"#mae73e443f2\" x=\"26.925\" y=\"167.7225\" style=\"stroke: #000000; stroke-width: 0.8\"/>\n      </g>\n     </g>\n     <g id=\"text_9\">\n      <!-- 20 -->\n      <g transform=\"translate(7.2 171.521719) scale(0.1 -0.1)\">\n       <use xlink:href=\"#DejaVuSans-32\"/>\n       <use xlink:href=\"#DejaVuSans-30\" x=\"63.623047\"/>\n      </g>\n     </g>\n    </g>\n    <g id=\"ytick_6\">\n     <g id=\"line2d_10\">\n      <g>\n       <use xlink:href=\"#mae73e443f2\" x=\"26.925\" y=\"134.7225\" style=\"stroke: #000000; stroke-width: 0.8\"/>\n      </g>\n     </g>\n     <g id=\"text_10\">\n      <!-- 25 -->\n      <g transform=\"translate(7.2 138.521719) scale(0.1 -0.1)\">\n       <use xlink:href=\"#DejaVuSans-32\"/>\n       <use xlink:href=\"#DejaVuSans-35\" x=\"63.623047\"/>\n      </g>\n     </g>\n    </g>\n    <g id=\"ytick_7\">\n     <g id=\"line2d_11\">\n      <g>\n       <use xlink:href=\"#mae73e443f2\" x=\"26.925\" y=\"101.7225\" style=\"stroke: #000000; stroke-width: 0.8\"/>\n      </g>\n     </g>\n     <g id=\"text_11\">\n      <!-- 30 -->\n      <g transform=\"translate(7.2 105.521719) scale(0.1 -0.1)\">\n       <use xlink:href=\"#DejaVuSans-33\"/>\n       <use xlink:href=\"#DejaVuSans-30\" x=\"63.623047\"/>\n      </g>\n     </g>\n    </g>\n    <g id=\"ytick_8\">\n     <g id=\"line2d_12\">\n      <g>\n       <use xlink:href=\"#mae73e443f2\" x=\"26.925\" y=\"68.7225\" style=\"stroke: #000000; stroke-width: 0.8\"/>\n      </g>\n     </g>\n     <g id=\"text_12\">\n      <!-- 35 -->\n      <g transform=\"translate(7.2 72.521719) scale(0.1 -0.1)\">\n       <use xlink:href=\"#DejaVuSans-33\"/>\n       <use xlink:href=\"#DejaVuSans-35\" x=\"63.623047\"/>\n      </g>\n     </g>\n    </g>\n    <g id=\"ytick_9\">\n     <g id=\"line2d_13\">\n      <g>\n       <use xlink:href=\"#mae73e443f2\" x=\"26.925\" y=\"35.7225\" style=\"stroke: #000000; stroke-width: 0.8\"/>\n      </g>\n     </g>\n     <g id=\"text_13\">\n      <!-- 40 -->\n      <g transform=\"translate(7.2 39.521719) scale(0.1 -0.1)\">\n       <defs>\n        <path id=\"DejaVuSans-34\" d=\"M 2419 4116 \nL 825 1625 \nL 2419 1625 \nL 2419 4116 \nz\nM 2253 4666 \nL 3047 4666 \nL 3047 1625 \nL 3713 1625 \nL 3713 1100 \nL 3047 1100 \nL 3047 0 \nL 2419 0 \nL 2419 1100 \nL 313 1100 \nL 313 1709 \nL 2253 4666 \nz\n\" transform=\"scale(0.015625)\"/>\n       </defs>\n       <use xlink:href=\"#DejaVuSans-34\"/>\n       <use xlink:href=\"#DejaVuSans-30\" x=\"63.623047\"/>\n      </g>\n     </g>\n    </g>\n   </g>\n   <g id=\"line2d_14\">\n    <path clip-path=\"url(#p2daa122fbd)\" style=\"fill: none; stroke: #424242; stroke-width: 2.7; stroke-linecap: square\"/>\n   </g>\n   <g id=\"line2d_15\">\n    <path clip-path=\"url(#p2daa122fbd)\" style=\"fill: none; stroke: #424242; stroke-width: 2.7; stroke-linecap: square\"/>\n   </g>\n   <g id=\"line2d_16\">\n    <path clip-path=\"url(#p2daa122fbd)\" style=\"fill: none; stroke: #424242; stroke-width: 2.7; stroke-linecap: square\"/>\n   </g>\n   <g id=\"line2d_17\">\n    <path clip-path=\"url(#p2daa122fbd)\" style=\"fill: none; stroke: #424242; stroke-width: 2.7; stroke-linecap: square\"/>\n   </g>\n   <g id=\"patch_7\">\n    <path d=\"M 26.925 299.7225 \nL 26.925 22.5225 \n\" style=\"fill: none; stroke: #000000; stroke-width: 0.8; stroke-linejoin: miter; stroke-linecap: square\"/>\n   </g>\n   <g id=\"patch_8\">\n    <path d=\"M 696.525 299.7225 \nL 696.525 22.5225 \n\" style=\"fill: none; stroke: #000000; stroke-width: 0.8; stroke-linejoin: miter; stroke-linecap: square\"/>\n   </g>\n   <g id=\"patch_9\">\n    <path d=\"M 26.925 299.7225 \nL 696.525 299.7225 \n\" style=\"fill: none; stroke: #000000; stroke-width: 0.8; stroke-linejoin: miter; stroke-linecap: square\"/>\n   </g>\n   <g id=\"patch_10\">\n    <path d=\"M 26.925 22.5225 \nL 696.525 22.5225 \n\" style=\"fill: none; stroke: #000000; stroke-width: 0.8; stroke-linejoin: miter; stroke-linecap: square\"/>\n   </g>\n   <g id=\"text_14\">\n    <!-- Распределение по классам в тестовой выборке -->\n    <g transform=\"translate(210.695625 16.5225) scale(0.12 -0.12)\">\n     <defs>\n      <path id=\"DejaVuSans-420\" d=\"M 1259 4147 \nL 1259 2394 \nL 2053 2394 \nQ 2494 2394 2734 2622 \nQ 2975 2850 2975 3272 \nQ 2975 3691 2734 3919 \nQ 2494 4147 2053 4147 \nL 1259 4147 \nz\nM 628 4666 \nL 2053 4666 \nQ 2838 4666 3239 4311 \nQ 3641 3956 3641 3272 \nQ 3641 2581 3239 2228 \nQ 2838 1875 2053 1875 \nL 1259 1875 \nL 1259 0 \nL 628 0 \nL 628 4666 \nz\n\" transform=\"scale(0.015625)\"/>\n      <path id=\"DejaVuSans-430\" d=\"M 2194 1759 \nQ 1497 1759 1228 1600 \nQ 959 1441 959 1056 \nQ 959 750 1161 570 \nQ 1363 391 1709 391 \nQ 2188 391 2477 730 \nQ 2766 1069 2766 1631 \nL 2766 1759 \nL 2194 1759 \nz\nM 3341 1997 \nL 3341 0 \nL 2766 0 \nL 2766 531 \nQ 2569 213 2275 61 \nQ 1981 -91 1556 -91 \nQ 1019 -91 701 211 \nQ 384 513 384 1019 \nQ 384 1609 779 1909 \nQ 1175 2209 1959 2209 \nL 2766 2209 \nL 2766 2266 \nQ 2766 2663 2505 2880 \nQ 2244 3097 1772 3097 \nQ 1472 3097 1187 3025 \nQ 903 2953 641 2809 \nL 641 3341 \nQ 956 3463 1253 3523 \nQ 1550 3584 1831 3584 \nQ 2591 3584 2966 3190 \nQ 3341 2797 3341 1997 \nz\n\" transform=\"scale(0.015625)\"/>\n      <path id=\"DejaVuSans-441\" d=\"M 3122 3366 \nL 3122 2828 \nQ 2878 2963 2633 3030 \nQ 2388 3097 2138 3097 \nQ 1578 3097 1268 2742 \nQ 959 2388 959 1747 \nQ 959 1106 1268 751 \nQ 1578 397 2138 397 \nQ 2388 397 2633 464 \nQ 2878 531 3122 666 \nL 3122 134 \nQ 2881 22 2623 -34 \nQ 2366 -91 2075 -91 \nQ 1284 -91 818 406 \nQ 353 903 353 1747 \nQ 353 2603 823 3093 \nQ 1294 3584 2113 3584 \nQ 2378 3584 2631 3529 \nQ 2884 3475 3122 3366 \nz\n\" transform=\"scale(0.015625)\"/>\n      <path id=\"DejaVuSans-43f\" d=\"M 3603 3500 \nL 3603 0 \nL 3025 0 \nL 3025 3041 \nL 1159 3041 \nL 1159 0 \nL 581 0 \nL 581 3500 \nL 3603 3500 \nz\n\" transform=\"scale(0.015625)\"/>\n      <path id=\"DejaVuSans-440\" d=\"M 1159 525 \nL 1159 -1331 \nL 581 -1331 \nL 581 3500 \nL 1159 3500 \nL 1159 2969 \nQ 1341 3281 1617 3432 \nQ 1894 3584 2278 3584 \nQ 2916 3584 3314 3078 \nQ 3713 2572 3713 1747 \nQ 3713 922 3314 415 \nQ 2916 -91 2278 -91 \nQ 1894 -91 1617 61 \nQ 1341 213 1159 525 \nz\nM 3116 1747 \nQ 3116 2381 2855 2742 \nQ 2594 3103 2138 3103 \nQ 1681 3103 1420 2742 \nQ 1159 2381 1159 1747 \nQ 1159 1113 1420 752 \nQ 1681 391 2138 391 \nQ 2594 391 2855 752 \nQ 3116 1113 3116 1747 \nz\n\" transform=\"scale(0.015625)\"/>\n      <path id=\"DejaVuSans-435\" d=\"M 3597 1894 \nL 3597 1613 \nL 953 1613 \nQ 991 1019 1311 708 \nQ 1631 397 2203 397 \nQ 2534 397 2845 478 \nQ 3156 559 3463 722 \nL 3463 178 \nQ 3153 47 2828 -22 \nQ 2503 -91 2169 -91 \nQ 1331 -91 842 396 \nQ 353 884 353 1716 \nQ 353 2575 817 3079 \nQ 1281 3584 2069 3584 \nQ 2775 3584 3186 3129 \nQ 3597 2675 3597 1894 \nz\nM 3022 2063 \nQ 3016 2534 2758 2815 \nQ 2500 3097 2075 3097 \nQ 1594 3097 1305 2825 \nQ 1016 2553 972 2059 \nL 3022 2063 \nz\n\" transform=\"scale(0.015625)\"/>\n      <path id=\"DejaVuSans-434\" d=\"M 1384 459 \nL 3053 459 \nL 3053 3041 \nL 1844 3041 \nL 1844 2603 \nQ 1844 1316 1475 628 \nL 1384 459 \nz\nM 550 459 \nQ 834 584 959 850 \nQ 1266 1509 1266 2838 \nL 1266 3500 \nL 3631 3500 \nL 3631 459 \nL 4091 459 \nL 4091 -884 \nL 3631 -884 \nL 3631 0 \nL 794 0 \nL 794 -884 \nL 334 -884 \nL 334 459 \nL 550 459 \nz\n\" transform=\"scale(0.015625)\"/>\n      <path id=\"DejaVuSans-43b\" d=\"M 238 0 \nL 238 478 \nQ 806 566 981 959 \nQ 1194 1513 1194 2928 \nL 1194 3500 \nL 3559 3500 \nL 3559 0 \nL 2984 0 \nL 2984 3041 \nL 1769 3041 \nL 1769 2694 \nQ 1769 1344 1494 738 \nQ 1200 91 238 0 \nz\n\" transform=\"scale(0.015625)\"/>\n      <path id=\"DejaVuSans-43d\" d=\"M 581 3500 \nL 1159 3500 \nL 1159 2072 \nL 3025 2072 \nL 3025 3500 \nL 3603 3500 \nL 3603 0 \nL 3025 0 \nL 3025 1613 \nL 1159 1613 \nL 1159 0 \nL 581 0 \nL 581 3500 \nz\n\" transform=\"scale(0.015625)\"/>\n      <path id=\"DejaVuSans-438\" d=\"M 3578 3500 \nL 3578 0 \nL 3006 0 \nL 3006 2809 \nL 1319 0 \nL 581 0 \nL 581 3500 \nL 1153 3500 \nL 1153 697 \nL 2838 3500 \nL 3578 3500 \nz\n\" transform=\"scale(0.015625)\"/>\n      <path id=\"DejaVuSans-20\" transform=\"scale(0.015625)\"/>\n      <path id=\"DejaVuSans-43e\" d=\"M 1959 3097 \nQ 1497 3097 1228 2736 \nQ 959 2375 959 1747 \nQ 959 1119 1226 758 \nQ 1494 397 1959 397 \nQ 2419 397 2687 759 \nQ 2956 1122 2956 1747 \nQ 2956 2369 2687 2733 \nQ 2419 3097 1959 3097 \nz\nM 1959 3584 \nQ 2709 3584 3137 3096 \nQ 3566 2609 3566 1747 \nQ 3566 888 3137 398 \nQ 2709 -91 1959 -91 \nQ 1206 -91 779 398 \nQ 353 888 353 1747 \nQ 353 2609 779 3096 \nQ 1206 3584 1959 3584 \nz\n\" transform=\"scale(0.015625)\"/>\n      <path id=\"DejaVuSans-43a\" d=\"M 581 3500 \nL 1153 3500 \nL 1153 1856 \nL 2775 3500 \nL 3481 3500 \nL 2144 2147 \nL 3653 0 \nL 3009 0 \nL 1769 1766 \nL 1153 1141 \nL 1153 0 \nL 581 0 \nL 581 3500 \nz\n\" transform=\"scale(0.015625)\"/>\n      <path id=\"DejaVuSans-43c\" d=\"M 581 3500 \nL 1422 3500 \nL 2416 1156 \nL 3413 3500 \nL 4247 3500 \nL 4247 0 \nL 3669 0 \nL 3669 2950 \nL 2703 672 \nL 2128 672 \nL 1159 2950 \nL 1159 0 \nL 581 0 \nL 581 3500 \nz\n\" transform=\"scale(0.015625)\"/>\n      <path id=\"DejaVuSans-432\" d=\"M 1156 1613 \nL 1156 459 \nL 1975 459 \nQ 2369 459 2575 607 \nQ 2781 756 2781 1038 \nQ 2781 1319 2575 1466 \nQ 2369 1613 1975 1613 \nL 1156 1613 \nz\nM 1156 3041 \nL 1156 2072 \nL 1913 2072 \nQ 2238 2072 2444 2201 \nQ 2650 2331 2650 2563 \nQ 2650 2794 2444 2917 \nQ 2238 3041 1913 3041 \nL 1156 3041 \nz\nM 581 3500 \nL 1950 3500 \nQ 2566 3500 2897 3275 \nQ 3228 3050 3228 2634 \nQ 3228 2313 3059 2123 \nQ 2891 1934 2559 1888 \nQ 2956 1813 3175 1575 \nQ 3394 1338 3394 981 \nQ 3394 513 3033 256 \nQ 2672 0 2003 0 \nL 581 0 \nL 581 3500 \nz\n\" transform=\"scale(0.015625)\"/>\n      <path id=\"DejaVuSans-442\" d=\"M 188 3500 \nL 3541 3500 \nL 3541 3041 \nL 2147 3041 \nL 2147 0 \nL 1581 0 \nL 1581 3041 \nL 188 3041 \nL 188 3500 \nz\n\" transform=\"scale(0.015625)\"/>\n      <path id=\"DejaVuSans-439\" d=\"M 3578 3500 \nL 3578 0 \nL 3006 0 \nL 3006 2809 \nL 1319 0 \nL 581 0 \nL 581 3500 \nL 1153 3500 \nL 1153 697 \nL 2838 3500 \nL 3578 3500 \nz\nM 1102 4833 \nL 1471 4833 \nQ 1505 4599 1656 4481 \nQ 1808 4364 2080 4364 \nQ 2349 4364 2499 4480 \nQ 2649 4596 2689 4833 \nL 3058 4833 \nQ 3027 4386 2780 4161 \nQ 2533 3936 2080 3936 \nQ 1627 3936 1380 4161 \nQ 1133 4386 1102 4833 \nz\n\" transform=\"scale(0.015625)\"/>\n      <path id=\"DejaVuSans-44b\" d=\"M 3907 3500 \nL 4482 3500 \nL 4482 0 \nL 3907 0 \nL 3907 3500 \nz\nM 4195 3584 \nL 4195 3584 \nz\nM 2781 1038 \nQ 2781 1319 2576 1466 \nQ 2372 1613 1978 1613 \nL 1159 1613 \nL 1159 459 \nL 1978 459 \nQ 2372 459 2576 607 \nQ 2781 756 2781 1038 \nz\nM 581 3500 \nL 1159 3500 \nL 1159 2072 \nL 2003 2072 \nQ 2672 2072 3033 1817 \nQ 3394 1563 3394 1038 \nQ 3394 513 3033 256 \nQ 2672 0 2003 0 \nL 581 0 \nL 581 3500 \nz\n\" transform=\"scale(0.015625)\"/>\n      <path id=\"DejaVuSans-431\" d=\"M 1991 3584 \nQ 2741 3584 3169 3096 \nQ 3597 2609 3597 1747 \nQ 3597 888 3169 398 \nQ 2741 -91 1991 -91 \nQ 1238 -91 822 384 \nQ 406 859 384 1747 \nL 366 2463 \nQ 350 2834 350 2963 \nQ 350 3463 531 3831 \nQ 816 4409 1308 4659 \nQ 1800 4909 2625 4916 \nQ 3006 4919 3175 4972 \nL 3334 4516 \nQ 3181 4453 3041 4450 \nL 2259 4397 \nQ 1866 4369 1628 4231 \nQ 1006 3866 947 3388 \nL 925 3213 \nQ 1331 3584 1991 3584 \nz\nM 1991 3097 \nQ 1528 3097 1259 2736 \nQ 991 2375 991 1747 \nQ 991 1119 1258 758 \nQ 1525 397 1991 397 \nQ 2450 397 2719 759 \nQ 2988 1122 2988 1747 \nQ 2988 2369 2719 2733 \nQ 2450 3097 1991 3097 \nz\n\" transform=\"scale(0.015625)\"/>\n     </defs>\n     <use xlink:href=\"#DejaVuSans-420\"/>\n     <use xlink:href=\"#DejaVuSans-430\" x=\"60.302734\"/>\n     <use xlink:href=\"#DejaVuSans-441\" x=\"121.582031\"/>\n     <use xlink:href=\"#DejaVuSans-43f\" x=\"176.5625\"/>\n     <use xlink:href=\"#DejaVuSans-440\" x=\"241.943359\"/>\n     <use xlink:href=\"#DejaVuSans-435\" x=\"305.419922\"/>\n     <use xlink:href=\"#DejaVuSans-434\" x=\"366.943359\"/>\n     <use xlink:href=\"#DejaVuSans-435\" x=\"436.083984\"/>\n     <use xlink:href=\"#DejaVuSans-43b\" x=\"497.607422\"/>\n     <use xlink:href=\"#DejaVuSans-435\" x=\"561.523438\"/>\n     <use xlink:href=\"#DejaVuSans-43d\" x=\"623.046875\"/>\n     <use xlink:href=\"#DejaVuSans-438\" x=\"688.427734\"/>\n     <use xlink:href=\"#DejaVuSans-435\" x=\"753.417969\"/>\n     <use xlink:href=\"#DejaVuSans-20\" x=\"814.941406\"/>\n     <use xlink:href=\"#DejaVuSans-43f\" x=\"846.728516\"/>\n     <use xlink:href=\"#DejaVuSans-43e\" x=\"912.109375\"/>\n     <use xlink:href=\"#DejaVuSans-20\" x=\"973.291016\"/>\n     <use xlink:href=\"#DejaVuSans-43a\" x=\"1005.078125\"/>\n     <use xlink:href=\"#DejaVuSans-43b\" x=\"1065.478516\"/>\n     <use xlink:href=\"#DejaVuSans-430\" x=\"1129.394531\"/>\n     <use xlink:href=\"#DejaVuSans-441\" x=\"1190.673828\"/>\n     <use xlink:href=\"#DejaVuSans-441\" x=\"1245.654297\"/>\n     <use xlink:href=\"#DejaVuSans-430\" x=\"1300.634766\"/>\n     <use xlink:href=\"#DejaVuSans-43c\" x=\"1361.914062\"/>\n     <use xlink:href=\"#DejaVuSans-20\" x=\"1437.353516\"/>\n     <use xlink:href=\"#DejaVuSans-432\" x=\"1469.140625\"/>\n     <use xlink:href=\"#DejaVuSans-20\" x=\"1528.076172\"/>\n     <use xlink:href=\"#DejaVuSans-442\" x=\"1559.863281\"/>\n     <use xlink:href=\"#DejaVuSans-435\" x=\"1618.115234\"/>\n     <use xlink:href=\"#DejaVuSans-441\" x=\"1679.638672\"/>\n     <use xlink:href=\"#DejaVuSans-442\" x=\"1734.619141\"/>\n     <use xlink:href=\"#DejaVuSans-43e\" x=\"1792.871094\"/>\n     <use xlink:href=\"#DejaVuSans-432\" x=\"1854.052734\"/>\n     <use xlink:href=\"#DejaVuSans-43e\" x=\"1912.988281\"/>\n     <use xlink:href=\"#DejaVuSans-439\" x=\"1974.169922\"/>\n     <use xlink:href=\"#DejaVuSans-20\" x=\"2039.160156\"/>\n     <use xlink:href=\"#DejaVuSans-432\" x=\"2070.947266\"/>\n     <use xlink:href=\"#DejaVuSans-44b\" x=\"2129.882812\"/>\n     <use xlink:href=\"#DejaVuSans-431\" x=\"2208.837891\"/>\n     <use xlink:href=\"#DejaVuSans-43e\" x=\"2270.507812\"/>\n     <use xlink:href=\"#DejaVuSans-440\" x=\"2331.689453\"/>\n     <use xlink:href=\"#DejaVuSans-43a\" x=\"2395.166016\"/>\n     <use xlink:href=\"#DejaVuSans-435\" x=\"2455.566406\"/>\n    </g>\n   </g>\n  </g>\n </g>\n <defs>\n  <clipPath id=\"p2daa122fbd\">\n   <rect x=\"26.925\" y=\"22.5225\" width=\"669.6\" height=\"277.2\"/>\n  </clipPath>\n </defs>\n</svg>\n"
          },
          "metadata": {}
        }
      ],
      "source": [
        "labels, counts = np.unique(y_test, return_counts=True)\n",
        "fig, axs = plt.subplots(ncols=1)\n",
        "sns.barplot(x=[str(label) for label in labels], y=counts, ax=axs).set_title(\"Распределение по классам в тестовой выборке\")\n",
        "plt.show()"
      ]
    },
    {
      "cell_type": "markdown",
      "metadata": {
        "id": "XJ8TVKquAod_"
      },
      "source": [
        "**Равномерное ли у вас распреденеие по классам в тестовой выборке и каким оно должно быть в идеальном случае?**\n",
        "\n",
        "Ответ:  ближе Да,когда каждый класс должен представлять примерно одинаковую долю от общего числа примеров в тестовой выборк\n"
      ]
    },
    {
      "cell_type": "markdown",
      "metadata": {
        "id": "Ww1eVlUgBmJe"
      },
      "source": [
        "\n",
        "\n",
        "Поскольку алгоритм K-ближайших соседей делает прогнозы относительно точки данных (семпла), используя наиболее близкие к ней наблюдения, существующий масштаб показателей в датасете имеет большое значение.\n",
        "\n",
        "обычно стандартизируют набор данных, что означает корректировку каждого значения x так, чтобы они находились примерно в одном диапазоне.\n",
        "Стандартизация признаков путем вычитания среднего значения и масштабирования до единичной дисперсии.\n"
      ]
    },
    {
      "cell_type": "code",
      "execution_count": 58,
      "metadata": {
        "id": "xPkktVmKwapn"
      },
      "outputs": [],
      "source": [
        "scaler = StandardScaler() #стандартизации данны"
      ]
    },
    {
      "cell_type": "markdown",
      "metadata": {
        "id": "apI-GY1GCQOO"
      },
      "source": [
        "Используя объект `scaler` вычислите среднее и стандартное отклонение для последующего масштабирования признаков с помощью метода `fit`.\n",
        "\n",
        "С помощью метода `transform` преобразуйте ваши данные и сохраните их в новые переменные."
      ]
    },
    {
      "cell_type": "code",
      "execution_count": 59,
      "metadata": {
        "id": "2hRjhSpmBtj2"
      },
      "outputs": [],
      "source": [
        "  scaler.fit(X_train,y_train)\n",
        "  X_train_scaled=scaler.transform(X_train)\n",
        "  X_test_scaled=scaler.transform(X_test)"
      ]
    },
    {
      "cell_type": "code",
      "source": [],
      "metadata": {
        "id": "w_inJx3tl6gK"
      },
      "execution_count": null,
      "outputs": []
    },
    {
      "cell_type": "markdown",
      "source": [],
      "metadata": {
        "id": "LJHDRjrVZtmI"
      }
    },
    {
      "cell_type": "markdown",
      "metadata": {
        "id": "GEAayGQMEhPC"
      },
      "source": [
        "**Для чего требуется предобработка данных?**\n",
        "\n",
        "Ответ:для очистки и структуризации исходных данных от выбросов и пропусков"
      ]
    },
    {
      "cell_type": "markdown",
      "metadata": {
        "id": "ULtbln16Hd4k"
      },
      "source": [
        "## Создание и обучение классификатора"
      ]
    },
    {
      "cell_type": "markdown",
      "metadata": {
        "id": "JLtMiZnvD9E8"
      },
      "source": [
        "Создайте классификатор knn указав аргументы:\n",
        "\n",
        "*   List item\n",
        "*   List item\n",
        "\n",
        "\n",
        "- n_neighbors - количество соседей\n",
        "- metric - способ засчета расстояний между объектами\n",
        "- algorithm - оставляйте 'brute'"
      ]
    },
    {
      "cell_type": "code",
      "execution_count": 60,
      "metadata": {
        "id": "294xXUcHyLIF"
      },
      "outputs": [],
      "source": [
        "clf = KNeighborsClassifier(algorithm='brute',n_neighbors=5,metric=\"l1\")"
      ]
    },
    {
      "cell_type": "markdown",
      "metadata": {
        "id": "XiehK1xPDh4k"
      },
      "source": [
        "С помощью метода fit для объекта обучите вашу модель, для обучения используйте предобработанные данные."
      ]
    },
    {
      "cell_type": "code",
      "execution_count": 61,
      "metadata": {
        "id": "TApBSoF1Df7m",
        "colab": {
          "base_uri": "https://localhost:8080/",
          "height": 75
        },
        "outputId": "a3e106f3-7f68-440f-a39d-0ddb43e0f1b6"
      },
      "outputs": [
        {
          "output_type": "execute_result",
          "data": {
            "text/plain": [
              "KNeighborsClassifier(algorithm='brute', metric='l1')"
            ],
            "text/html": [
              "<style>#sk-container-id-3 {color: black;background-color: white;}#sk-container-id-3 pre{padding: 0;}#sk-container-id-3 div.sk-toggleable {background-color: white;}#sk-container-id-3 label.sk-toggleable__label {cursor: pointer;display: block;width: 100%;margin-bottom: 0;padding: 0.3em;box-sizing: border-box;text-align: center;}#sk-container-id-3 label.sk-toggleable__label-arrow:before {content: \"▸\";float: left;margin-right: 0.25em;color: #696969;}#sk-container-id-3 label.sk-toggleable__label-arrow:hover:before {color: black;}#sk-container-id-3 div.sk-estimator:hover label.sk-toggleable__label-arrow:before {color: black;}#sk-container-id-3 div.sk-toggleable__content {max-height: 0;max-width: 0;overflow: hidden;text-align: left;background-color: #f0f8ff;}#sk-container-id-3 div.sk-toggleable__content pre {margin: 0.2em;color: black;border-radius: 0.25em;background-color: #f0f8ff;}#sk-container-id-3 input.sk-toggleable__control:checked~div.sk-toggleable__content {max-height: 200px;max-width: 100%;overflow: auto;}#sk-container-id-3 input.sk-toggleable__control:checked~label.sk-toggleable__label-arrow:before {content: \"▾\";}#sk-container-id-3 div.sk-estimator input.sk-toggleable__control:checked~label.sk-toggleable__label {background-color: #d4ebff;}#sk-container-id-3 div.sk-label input.sk-toggleable__control:checked~label.sk-toggleable__label {background-color: #d4ebff;}#sk-container-id-3 input.sk-hidden--visually {border: 0;clip: rect(1px 1px 1px 1px);clip: rect(1px, 1px, 1px, 1px);height: 1px;margin: -1px;overflow: hidden;padding: 0;position: absolute;width: 1px;}#sk-container-id-3 div.sk-estimator {font-family: monospace;background-color: #f0f8ff;border: 1px dotted black;border-radius: 0.25em;box-sizing: border-box;margin-bottom: 0.5em;}#sk-container-id-3 div.sk-estimator:hover {background-color: #d4ebff;}#sk-container-id-3 div.sk-parallel-item::after {content: \"\";width: 100%;border-bottom: 1px solid gray;flex-grow: 1;}#sk-container-id-3 div.sk-label:hover label.sk-toggleable__label {background-color: #d4ebff;}#sk-container-id-3 div.sk-serial::before {content: \"\";position: absolute;border-left: 1px solid gray;box-sizing: border-box;top: 0;bottom: 0;left: 50%;z-index: 0;}#sk-container-id-3 div.sk-serial {display: flex;flex-direction: column;align-items: center;background-color: white;padding-right: 0.2em;padding-left: 0.2em;position: relative;}#sk-container-id-3 div.sk-item {position: relative;z-index: 1;}#sk-container-id-3 div.sk-parallel {display: flex;align-items: stretch;justify-content: center;background-color: white;position: relative;}#sk-container-id-3 div.sk-item::before, #sk-container-id-3 div.sk-parallel-item::before {content: \"\";position: absolute;border-left: 1px solid gray;box-sizing: border-box;top: 0;bottom: 0;left: 50%;z-index: -1;}#sk-container-id-3 div.sk-parallel-item {display: flex;flex-direction: column;z-index: 1;position: relative;background-color: white;}#sk-container-id-3 div.sk-parallel-item:first-child::after {align-self: flex-end;width: 50%;}#sk-container-id-3 div.sk-parallel-item:last-child::after {align-self: flex-start;width: 50%;}#sk-container-id-3 div.sk-parallel-item:only-child::after {width: 0;}#sk-container-id-3 div.sk-dashed-wrapped {border: 1px dashed gray;margin: 0 0.4em 0.5em 0.4em;box-sizing: border-box;padding-bottom: 0.4em;background-color: white;}#sk-container-id-3 div.sk-label label {font-family: monospace;font-weight: bold;display: inline-block;line-height: 1.2em;}#sk-container-id-3 div.sk-label-container {text-align: center;}#sk-container-id-3 div.sk-container {/* jupyter's `normalize.less` sets `[hidden] { display: none; }` but bootstrap.min.css set `[hidden] { display: none !important; }` so we also need the `!important` here to be able to override the default hidden behavior on the sphinx rendered scikit-learn.org. See: https://github.com/scikit-learn/scikit-learn/issues/21755 */display: inline-block !important;position: relative;}#sk-container-id-3 div.sk-text-repr-fallback {display: none;}</style><div id=\"sk-container-id-3\" class=\"sk-top-container\"><div class=\"sk-text-repr-fallback\"><pre>KNeighborsClassifier(algorithm=&#x27;brute&#x27;, metric=&#x27;l1&#x27;)</pre><b>In a Jupyter environment, please rerun this cell to show the HTML representation or trust the notebook. <br />On GitHub, the HTML representation is unable to render, please try loading this page with nbviewer.org.</b></div><div class=\"sk-container\" hidden><div class=\"sk-item\"><div class=\"sk-estimator sk-toggleable\"><input class=\"sk-toggleable__control sk-hidden--visually\" id=\"sk-estimator-id-3\" type=\"checkbox\" checked><label for=\"sk-estimator-id-3\" class=\"sk-toggleable__label sk-toggleable__label-arrow\">KNeighborsClassifier</label><div class=\"sk-toggleable__content\"><pre>KNeighborsClassifier(algorithm=&#x27;brute&#x27;, metric=&#x27;l1&#x27;)</pre></div></div></div></div></div>"
            ]
          },
          "metadata": {},
          "execution_count": 61
        }
      ],
      "source": [
        "clf.fit(X_train_scaled,y_train)"
      ]
    },
    {
      "cell_type": "markdown",
      "metadata": {
        "id": "F7_mhtP3HWJt"
      },
      "source": [
        "## Оценка модели"
      ]
    },
    {
      "cell_type": "markdown",
      "metadata": {
        "id": "yPyanEteGmhb"
      },
      "source": [
        "Проверьте результат работы вашей модели используя медот `score` классификатора, передав в него тестовую часть ваших данных."
      ]
    },
    {
      "cell_type": "code",
      "execution_count": 62,
      "metadata": {
        "id": "u_vvWc-Q6d0Q",
        "colab": {
          "base_uri": "https://localhost:8080/"
        },
        "outputId": "0e28b774-d4ce-47fa-e6fe-dd16ae22f02a"
      },
      "outputs": [
        {
          "output_type": "execute_result",
          "data": {
            "text/plain": [
              "0.8266666666666667"
            ]
          },
          "metadata": {},
          "execution_count": 62
        }
      ],
      "source": [
        "clf.score(X_test_scaled,y_test) #вычисления оценки (accuracy) на тестовом наборе"
      ]
    },
    {
      "cell_type": "markdown",
      "metadata": {
        "id": "fJ4WFR2IGzBa"
      },
      "source": [
        "**Что значит данное число?**\n",
        "\n",
        "Ответ: accuracy оценивает производительность модели путем сравнения предсказанных значений с истинными значениями в тестовом наборе и возвращает долю правильных предсказаний."
      ]
    },
    {
      "cell_type": "markdown",
      "metadata": {
        "id": "V1RQxWG2Hx5A"
      },
      "source": [
        "Для построения матрицы ошибок, замените комментарии на ваши переменные."
      ]
    },
    {
      "cell_type": "code",
      "execution_count": 45,
      "metadata": {
        "id": "4SG9rwGc6u8Q",
        "colab": {
          "base_uri": "https://localhost:8080/",
          "height": 468
        },
        "outputId": "02deb4b0-d36c-45f1-caf9-4a07cbcd27da"
      },
      "outputs": [
        {
          "output_type": "execute_result",
          "data": {
            "text/plain": [
              "<sklearn.metrics._plot.confusion_matrix.ConfusionMatrixDisplay at 0x7b98c920c1f0>"
            ]
          },
          "metadata": {},
          "execution_count": 45
        },
        {
          "output_type": "display_data",
          "data": {
            "text/plain": [
              "<Figure size 1200x500 with 2 Axes>"
            ],
            "image/svg+xml": "<?xml version=\"1.0\" encoding=\"utf-8\" standalone=\"no\"?>\n<!DOCTYPE svg PUBLIC \"-//W3C//DTD SVG 1.1//EN\"\n  \"http://www.w3.org/Graphics/SVG/1.1/DTD/svg11.dtd\">\n<svg xmlns:xlink=\"http://www.w3.org/1999/xlink\" width=\"385.705625pt\" height=\"321.95625pt\" viewBox=\"0 0 385.705625 321.95625\" xmlns=\"http://www.w3.org/2000/svg\" version=\"1.1\">\n <metadata>\n  <rdf:RDF xmlns:dc=\"http://purl.org/dc/elements/1.1/\" xmlns:cc=\"http://creativecommons.org/ns#\" xmlns:rdf=\"http://www.w3.org/1999/02/22-rdf-syntax-ns#\">\n   <cc:Work>\n    <dc:type rdf:resource=\"http://purl.org/dc/dcmitype/StillImage\"/>\n    <dc:date>2023-11-25T10:40:38.559572</dc:date>\n    <dc:format>image/svg+xml</dc:format>\n    <dc:creator>\n     <cc:Agent>\n      <dc:title>Matplotlib v3.7.1, https://matplotlib.org/</dc:title>\n     </cc:Agent>\n    </dc:creator>\n   </cc:Work>\n  </rdf:RDF>\n </metadata>\n <defs>\n  <style type=\"text/css\">*{stroke-linejoin: round; stroke-linecap: butt}</style>\n </defs>\n <g id=\"figure_1\">\n  <g id=\"patch_1\">\n   <path d=\"M 0 321.95625 \nL 385.705625 321.95625 \nL 385.705625 0 \nL 0 0 \nz\n\" style=\"fill: #ffffff\"/>\n  </g>\n  <g id=\"axes_1\">\n   <g id=\"patch_2\">\n    <path d=\"M 34.240625 284.4 \nL 311.440625 284.4 \nL 311.440625 7.2 \nL 34.240625 7.2 \nz\n\" style=\"fill: #ffffff\"/>\n   </g>\n   <g clip-path=\"url(#p43923c5c8d)\">\n    <image xlink:href=\"data:image/png;base64,\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\" id=\"imaged3b54a7d89\" transform=\"scale(1 -1) translate(0 -277.92)\" x=\"34.240625\" y=\"-6.48\" width=\"277.2\" height=\"277.92\"/>\n   </g>\n   <g id=\"matplotlib.axis_1\">\n    <g id=\"xtick_1\">\n     <g id=\"line2d_1\">\n      <defs>\n       <path id=\"mf5b8de77e4\" d=\"M 0 0 \nL 0 3.5 \n\" style=\"stroke: #000000; stroke-width: 0.8\"/>\n      </defs>\n      <g>\n       <use xlink:href=\"#mf5b8de77e4\" x=\"68.890625\" y=\"284.4\" style=\"stroke: #000000; stroke-width: 0.8\"/>\n      </g>\n     </g>\n     <g id=\"text_1\">\n      <!-- 0 -->\n      <g transform=\"translate(65.709375 298.998438) scale(0.1 -0.1)\">\n       <defs>\n        <path id=\"DejaVuSans-30\" d=\"M 2034 4250 \nQ 1547 4250 1301 3770 \nQ 1056 3291 1056 2328 \nQ 1056 1369 1301 889 \nQ 1547 409 2034 409 \nQ 2525 409 2770 889 \nQ 3016 1369 3016 2328 \nQ 3016 3291 2770 3770 \nQ 2525 4250 2034 4250 \nz\nM 2034 4750 \nQ 2819 4750 3233 4129 \nQ 3647 3509 3647 2328 \nQ 3647 1150 3233 529 \nQ 2819 -91 2034 -91 \nQ 1250 -91 836 529 \nQ 422 1150 422 2328 \nQ 422 3509 836 4129 \nQ 1250 4750 2034 4750 \nz\n\" transform=\"scale(0.015625)\"/>\n       </defs>\n       <use xlink:href=\"#DejaVuSans-30\"/>\n      </g>\n     </g>\n    </g>\n    <g id=\"xtick_2\">\n     <g id=\"line2d_2\">\n      <g>\n       <use xlink:href=\"#mf5b8de77e4\" x=\"138.190625\" y=\"284.4\" style=\"stroke: #000000; stroke-width: 0.8\"/>\n      </g>\n     </g>\n     <g id=\"text_2\">\n      <!-- 1 -->\n      <g transform=\"translate(135.009375 298.998438) scale(0.1 -0.1)\">\n       <defs>\n        <path id=\"DejaVuSans-31\" d=\"M 794 531 \nL 1825 531 \nL 1825 4091 \nL 703 3866 \nL 703 4441 \nL 1819 4666 \nL 2450 4666 \nL 2450 531 \nL 3481 531 \nL 3481 0 \nL 794 0 \nL 794 531 \nz\n\" transform=\"scale(0.015625)\"/>\n       </defs>\n       <use xlink:href=\"#DejaVuSans-31\"/>\n      </g>\n     </g>\n    </g>\n    <g id=\"xtick_3\">\n     <g id=\"line2d_3\">\n      <g>\n       <use xlink:href=\"#mf5b8de77e4\" x=\"207.490625\" y=\"284.4\" style=\"stroke: #000000; stroke-width: 0.8\"/>\n      </g>\n     </g>\n     <g id=\"text_3\">\n      <!-- 2 -->\n      <g transform=\"translate(204.309375 298.998438) scale(0.1 -0.1)\">\n       <defs>\n        <path id=\"DejaVuSans-32\" d=\"M 1228 531 \nL 3431 531 \nL 3431 0 \nL 469 0 \nL 469 531 \nQ 828 903 1448 1529 \nQ 2069 2156 2228 2338 \nQ 2531 2678 2651 2914 \nQ 2772 3150 2772 3378 \nQ 2772 3750 2511 3984 \nQ 2250 4219 1831 4219 \nQ 1534 4219 1204 4116 \nQ 875 4013 500 3803 \nL 500 4441 \nQ 881 4594 1212 4672 \nQ 1544 4750 1819 4750 \nQ 2544 4750 2975 4387 \nQ 3406 4025 3406 3419 \nQ 3406 3131 3298 2873 \nQ 3191 2616 2906 2266 \nQ 2828 2175 2409 1742 \nQ 1991 1309 1228 531 \nz\n\" transform=\"scale(0.015625)\"/>\n       </defs>\n       <use xlink:href=\"#DejaVuSans-32\"/>\n      </g>\n     </g>\n    </g>\n    <g id=\"xtick_4\">\n     <g id=\"line2d_4\">\n      <g>\n       <use xlink:href=\"#mf5b8de77e4\" x=\"276.790625\" y=\"284.4\" style=\"stroke: #000000; stroke-width: 0.8\"/>\n      </g>\n     </g>\n     <g id=\"text_4\">\n      <!-- 3 -->\n      <g transform=\"translate(273.609375 298.998438) scale(0.1 -0.1)\">\n       <defs>\n        <path id=\"DejaVuSans-33\" d=\"M 2597 2516 \nQ 3050 2419 3304 2112 \nQ 3559 1806 3559 1356 \nQ 3559 666 3084 287 \nQ 2609 -91 1734 -91 \nQ 1441 -91 1130 -33 \nQ 819 25 488 141 \nL 488 750 \nQ 750 597 1062 519 \nQ 1375 441 1716 441 \nQ 2309 441 2620 675 \nQ 2931 909 2931 1356 \nQ 2931 1769 2642 2001 \nQ 2353 2234 1838 2234 \nL 1294 2234 \nL 1294 2753 \nL 1863 2753 \nQ 2328 2753 2575 2939 \nQ 2822 3125 2822 3475 \nQ 2822 3834 2567 4026 \nQ 2313 4219 1838 4219 \nQ 1578 4219 1281 4162 \nQ 984 4106 628 3988 \nL 628 4550 \nQ 988 4650 1302 4700 \nQ 1616 4750 1894 4750 \nQ 2613 4750 3031 4423 \nQ 3450 4097 3450 3541 \nQ 3450 3153 3228 2886 \nQ 3006 2619 2597 2516 \nz\n\" transform=\"scale(0.015625)\"/>\n       </defs>\n       <use xlink:href=\"#DejaVuSans-33\"/>\n      </g>\n     </g>\n    </g>\n    <g id=\"text_5\">\n     <!-- Predicted label -->\n     <g transform=\"translate(135.688281 312.676562) scale(0.1 -0.1)\">\n      <defs>\n       <path id=\"DejaVuSans-50\" d=\"M 1259 4147 \nL 1259 2394 \nL 2053 2394 \nQ 2494 2394 2734 2622 \nQ 2975 2850 2975 3272 \nQ 2975 3691 2734 3919 \nQ 2494 4147 2053 4147 \nL 1259 4147 \nz\nM 628 4666 \nL 2053 4666 \nQ 2838 4666 3239 4311 \nQ 3641 3956 3641 3272 \nQ 3641 2581 3239 2228 \nQ 2838 1875 2053 1875 \nL 1259 1875 \nL 1259 0 \nL 628 0 \nL 628 4666 \nz\n\" transform=\"scale(0.015625)\"/>\n       <path id=\"DejaVuSans-72\" d=\"M 2631 2963 \nQ 2534 3019 2420 3045 \nQ 2306 3072 2169 3072 \nQ 1681 3072 1420 2755 \nQ 1159 2438 1159 1844 \nL 1159 0 \nL 581 0 \nL 581 3500 \nL 1159 3500 \nL 1159 2956 \nQ 1341 3275 1631 3429 \nQ 1922 3584 2338 3584 \nQ 2397 3584 2469 3576 \nQ 2541 3569 2628 3553 \nL 2631 2963 \nz\n\" transform=\"scale(0.015625)\"/>\n       <path id=\"DejaVuSans-65\" d=\"M 3597 1894 \nL 3597 1613 \nL 953 1613 \nQ 991 1019 1311 708 \nQ 1631 397 2203 397 \nQ 2534 397 2845 478 \nQ 3156 559 3463 722 \nL 3463 178 \nQ 3153 47 2828 -22 \nQ 2503 -91 2169 -91 \nQ 1331 -91 842 396 \nQ 353 884 353 1716 \nQ 353 2575 817 3079 \nQ 1281 3584 2069 3584 \nQ 2775 3584 3186 3129 \nQ 3597 2675 3597 1894 \nz\nM 3022 2063 \nQ 3016 2534 2758 2815 \nQ 2500 3097 2075 3097 \nQ 1594 3097 1305 2825 \nQ 1016 2553 972 2059 \nL 3022 2063 \nz\n\" transform=\"scale(0.015625)\"/>\n       <path id=\"DejaVuSans-64\" d=\"M 2906 2969 \nL 2906 4863 \nL 3481 4863 \nL 3481 0 \nL 2906 0 \nL 2906 525 \nQ 2725 213 2448 61 \nQ 2172 -91 1784 -91 \nQ 1150 -91 751 415 \nQ 353 922 353 1747 \nQ 353 2572 751 3078 \nQ 1150 3584 1784 3584 \nQ 2172 3584 2448 3432 \nQ 2725 3281 2906 2969 \nz\nM 947 1747 \nQ 947 1113 1208 752 \nQ 1469 391 1925 391 \nQ 2381 391 2643 752 \nQ 2906 1113 2906 1747 \nQ 2906 2381 2643 2742 \nQ 2381 3103 1925 3103 \nQ 1469 3103 1208 2742 \nQ 947 2381 947 1747 \nz\n\" transform=\"scale(0.015625)\"/>\n       <path id=\"DejaVuSans-69\" d=\"M 603 3500 \nL 1178 3500 \nL 1178 0 \nL 603 0 \nL 603 3500 \nz\nM 603 4863 \nL 1178 4863 \nL 1178 4134 \nL 603 4134 \nL 603 4863 \nz\n\" transform=\"scale(0.015625)\"/>\n       <path id=\"DejaVuSans-63\" d=\"M 3122 3366 \nL 3122 2828 \nQ 2878 2963 2633 3030 \nQ 2388 3097 2138 3097 \nQ 1578 3097 1268 2742 \nQ 959 2388 959 1747 \nQ 959 1106 1268 751 \nQ 1578 397 2138 397 \nQ 2388 397 2633 464 \nQ 2878 531 3122 666 \nL 3122 134 \nQ 2881 22 2623 -34 \nQ 2366 -91 2075 -91 \nQ 1284 -91 818 406 \nQ 353 903 353 1747 \nQ 353 2603 823 3093 \nQ 1294 3584 2113 3584 \nQ 2378 3584 2631 3529 \nQ 2884 3475 3122 3366 \nz\n\" transform=\"scale(0.015625)\"/>\n       <path id=\"DejaVuSans-74\" d=\"M 1172 4494 \nL 1172 3500 \nL 2356 3500 \nL 2356 3053 \nL 1172 3053 \nL 1172 1153 \nQ 1172 725 1289 603 \nQ 1406 481 1766 481 \nL 2356 481 \nL 2356 0 \nL 1766 0 \nQ 1100 0 847 248 \nQ 594 497 594 1153 \nL 594 3053 \nL 172 3053 \nL 172 3500 \nL 594 3500 \nL 594 4494 \nL 1172 4494 \nz\n\" transform=\"scale(0.015625)\"/>\n       <path id=\"DejaVuSans-20\" transform=\"scale(0.015625)\"/>\n       <path id=\"DejaVuSans-6c\" d=\"M 603 4863 \nL 1178 4863 \nL 1178 0 \nL 603 0 \nL 603 4863 \nz\n\" transform=\"scale(0.015625)\"/>\n       <path id=\"DejaVuSans-61\" d=\"M 2194 1759 \nQ 1497 1759 1228 1600 \nQ 959 1441 959 1056 \nQ 959 750 1161 570 \nQ 1363 391 1709 391 \nQ 2188 391 2477 730 \nQ 2766 1069 2766 1631 \nL 2766 1759 \nL 2194 1759 \nz\nM 3341 1997 \nL 3341 0 \nL 2766 0 \nL 2766 531 \nQ 2569 213 2275 61 \nQ 1981 -91 1556 -91 \nQ 1019 -91 701 211 \nQ 384 513 384 1019 \nQ 384 1609 779 1909 \nQ 1175 2209 1959 2209 \nL 2766 2209 \nL 2766 2266 \nQ 2766 2663 2505 2880 \nQ 2244 3097 1772 3097 \nQ 1472 3097 1187 3025 \nQ 903 2953 641 2809 \nL 641 3341 \nQ 956 3463 1253 3523 \nQ 1550 3584 1831 3584 \nQ 2591 3584 2966 3190 \nQ 3341 2797 3341 1997 \nz\n\" transform=\"scale(0.015625)\"/>\n       <path id=\"DejaVuSans-62\" d=\"M 3116 1747 \nQ 3116 2381 2855 2742 \nQ 2594 3103 2138 3103 \nQ 1681 3103 1420 2742 \nQ 1159 2381 1159 1747 \nQ 1159 1113 1420 752 \nQ 1681 391 2138 391 \nQ 2594 391 2855 752 \nQ 3116 1113 3116 1747 \nz\nM 1159 2969 \nQ 1341 3281 1617 3432 \nQ 1894 3584 2278 3584 \nQ 2916 3584 3314 3078 \nQ 3713 2572 3713 1747 \nQ 3713 922 3314 415 \nQ 2916 -91 2278 -91 \nQ 1894 -91 1617 61 \nQ 1341 213 1159 525 \nL 1159 0 \nL 581 0 \nL 581 4863 \nL 1159 4863 \nL 1159 2969 \nz\n\" transform=\"scale(0.015625)\"/>\n      </defs>\n      <use xlink:href=\"#DejaVuSans-50\"/>\n      <use xlink:href=\"#DejaVuSans-72\" x=\"58.552734\"/>\n      <use xlink:href=\"#DejaVuSans-65\" x=\"97.416016\"/>\n      <use xlink:href=\"#DejaVuSans-64\" x=\"158.939453\"/>\n      <use xlink:href=\"#DejaVuSans-69\" x=\"222.416016\"/>\n      <use xlink:href=\"#DejaVuSans-63\" x=\"250.199219\"/>\n      <use xlink:href=\"#DejaVuSans-74\" x=\"305.179688\"/>\n      <use xlink:href=\"#DejaVuSans-65\" x=\"344.388672\"/>\n      <use xlink:href=\"#DejaVuSans-64\" x=\"405.912109\"/>\n      <use xlink:href=\"#DejaVuSans-20\" x=\"469.388672\"/>\n      <use xlink:href=\"#DejaVuSans-6c\" x=\"501.175781\"/>\n      <use xlink:href=\"#DejaVuSans-61\" x=\"528.958984\"/>\n      <use xlink:href=\"#DejaVuSans-62\" x=\"590.238281\"/>\n      <use xlink:href=\"#DejaVuSans-65\" x=\"653.714844\"/>\n      <use xlink:href=\"#DejaVuSans-6c\" x=\"715.238281\"/>\n     </g>\n    </g>\n   </g>\n   <g id=\"matplotlib.axis_2\">\n    <g id=\"ytick_1\">\n     <g id=\"line2d_5\">\n      <defs>\n       <path id=\"m7abb58c85f\" d=\"M 0 0 \nL -3.5 0 \n\" style=\"stroke: #000000; stroke-width: 0.8\"/>\n      </defs>\n      <g>\n       <use xlink:href=\"#m7abb58c85f\" x=\"34.240625\" y=\"41.85\" style=\"stroke: #000000; stroke-width: 0.8\"/>\n      </g>\n     </g>\n     <g id=\"text_6\">\n      <!-- 0 -->\n      <g transform=\"translate(20.878125 45.649219) scale(0.1 -0.1)\">\n       <use xlink:href=\"#DejaVuSans-30\"/>\n      </g>\n     </g>\n    </g>\n    <g id=\"ytick_2\">\n     <g id=\"line2d_6\">\n      <g>\n       <use xlink:href=\"#m7abb58c85f\" x=\"34.240625\" y=\"111.15\" style=\"stroke: #000000; stroke-width: 0.8\"/>\n      </g>\n     </g>\n     <g id=\"text_7\">\n      <!-- 1 -->\n      <g transform=\"translate(20.878125 114.949219) scale(0.1 -0.1)\">\n       <use xlink:href=\"#DejaVuSans-31\"/>\n      </g>\n     </g>\n    </g>\n    <g id=\"ytick_3\">\n     <g id=\"line2d_7\">\n      <g>\n       <use xlink:href=\"#m7abb58c85f\" x=\"34.240625\" y=\"180.45\" style=\"stroke: #000000; stroke-width: 0.8\"/>\n      </g>\n     </g>\n     <g id=\"text_8\">\n      <!-- 2 -->\n      <g transform=\"translate(20.878125 184.249219) scale(0.1 -0.1)\">\n       <use xlink:href=\"#DejaVuSans-32\"/>\n      </g>\n     </g>\n    </g>\n    <g id=\"ytick_4\">\n     <g id=\"line2d_8\">\n      <g>\n       <use xlink:href=\"#m7abb58c85f\" x=\"34.240625\" y=\"249.75\" style=\"stroke: #000000; stroke-width: 0.8\"/>\n      </g>\n     </g>\n     <g id=\"text_9\">\n      <!-- 3 -->\n      <g transform=\"translate(20.878125 253.549219) scale(0.1 -0.1)\">\n       <use xlink:href=\"#DejaVuSans-33\"/>\n      </g>\n     </g>\n    </g>\n    <g id=\"text_10\">\n     <!-- True label -->\n     <g transform=\"translate(14.798438 170.099219) rotate(-90) scale(0.1 -0.1)\">\n      <defs>\n       <path id=\"DejaVuSans-54\" d=\"M -19 4666 \nL 3928 4666 \nL 3928 4134 \nL 2272 4134 \nL 2272 0 \nL 1638 0 \nL 1638 4134 \nL -19 4134 \nL -19 4666 \nz\n\" transform=\"scale(0.015625)\"/>\n       <path id=\"DejaVuSans-75\" d=\"M 544 1381 \nL 544 3500 \nL 1119 3500 \nL 1119 1403 \nQ 1119 906 1312 657 \nQ 1506 409 1894 409 \nQ 2359 409 2629 706 \nQ 2900 1003 2900 1516 \nL 2900 3500 \nL 3475 3500 \nL 3475 0 \nL 2900 0 \nL 2900 538 \nQ 2691 219 2414 64 \nQ 2138 -91 1772 -91 \nQ 1169 -91 856 284 \nQ 544 659 544 1381 \nz\nM 1991 3584 \nL 1991 3584 \nz\n\" transform=\"scale(0.015625)\"/>\n      </defs>\n      <use xlink:href=\"#DejaVuSans-54\"/>\n      <use xlink:href=\"#DejaVuSans-72\" x=\"46.333984\"/>\n      <use xlink:href=\"#DejaVuSans-75\" x=\"87.447266\"/>\n      <use xlink:href=\"#DejaVuSans-65\" x=\"150.826172\"/>\n      <use xlink:href=\"#DejaVuSans-20\" x=\"212.349609\"/>\n      <use xlink:href=\"#DejaVuSans-6c\" x=\"244.136719\"/>\n      <use xlink:href=\"#DejaVuSans-61\" x=\"271.919922\"/>\n      <use xlink:href=\"#DejaVuSans-62\" x=\"333.199219\"/>\n      <use xlink:href=\"#DejaVuSans-65\" x=\"396.675781\"/>\n      <use xlink:href=\"#DejaVuSans-6c\" x=\"458.199219\"/>\n     </g>\n    </g>\n   </g>\n   <g id=\"patch_3\">\n    <path d=\"M 34.240625 284.4 \nL 34.240625 7.2 \n\" style=\"fill: none; stroke: #000000; stroke-width: 0.8; stroke-linejoin: miter; stroke-linecap: square\"/>\n   </g>\n   <g id=\"patch_4\">\n    <path d=\"M 311.440625 284.4 \nL 311.440625 7.2 \n\" style=\"fill: none; stroke: #000000; stroke-width: 0.8; stroke-linejoin: miter; stroke-linecap: square\"/>\n   </g>\n   <g id=\"patch_5\">\n    <path d=\"M 34.240625 284.4 \nL 311.440625 284.4 \n\" style=\"fill: none; stroke: #000000; stroke-width: 0.8; stroke-linejoin: miter; stroke-linecap: square\"/>\n   </g>\n   <g id=\"patch_6\">\n    <path d=\"M 34.240625 7.2 \nL 311.440625 7.2 \n\" style=\"fill: none; stroke: #000000; stroke-width: 0.8; stroke-linejoin: miter; stroke-linecap: square\"/>\n   </g>\n   <g id=\"text_11\">\n    <!-- 33 -->\n    <g style=\"fill: #f7fbff\" transform=\"translate(62.528125 44.609375) scale(0.1 -0.1)\">\n     <use xlink:href=\"#DejaVuSans-33\"/>\n     <use xlink:href=\"#DejaVuSans-33\" x=\"63.623047\"/>\n    </g>\n   </g>\n   <g id=\"text_12\">\n    <!-- 0 -->\n    <g style=\"fill: #08306b\" transform=\"translate(135.009375 44.609375) scale(0.1 -0.1)\">\n     <use xlink:href=\"#DejaVuSans-30\"/>\n    </g>\n   </g>\n   <g id=\"text_13\">\n    <!-- 5 -->\n    <g style=\"fill: #08306b\" transform=\"translate(204.309375 44.609375) scale(0.1 -0.1)\">\n     <defs>\n      <path id=\"DejaVuSans-35\" d=\"M 691 4666 \nL 3169 4666 \nL 3169 4134 \nL 1269 4134 \nL 1269 2991 \nQ 1406 3038 1543 3061 \nQ 1681 3084 1819 3084 \nQ 2600 3084 3056 2656 \nQ 3513 2228 3513 1497 \nQ 3513 744 3044 326 \nQ 2575 -91 1722 -91 \nQ 1428 -91 1123 -41 \nQ 819 9 494 109 \nL 494 744 \nQ 775 591 1075 516 \nQ 1375 441 1709 441 \nQ 2250 441 2565 725 \nQ 2881 1009 2881 1497 \nQ 2881 1984 2565 2268 \nQ 2250 2553 1709 2553 \nQ 1456 2553 1204 2497 \nQ 953 2441 691 2322 \nL 691 4666 \nz\n\" transform=\"scale(0.015625)\"/>\n     </defs>\n     <use xlink:href=\"#DejaVuSans-35\"/>\n    </g>\n   </g>\n   <g id=\"text_14\">\n    <!-- 4 -->\n    <g style=\"fill: #08306b\" transform=\"translate(273.609375 44.609375) scale(0.1 -0.1)\">\n     <defs>\n      <path id=\"DejaVuSans-34\" d=\"M 2419 4116 \nL 825 1625 \nL 2419 1625 \nL 2419 4116 \nz\nM 2253 4666 \nL 3047 4666 \nL 3047 1625 \nL 3713 1625 \nL 3713 1100 \nL 3047 1100 \nL 3047 0 \nL 2419 0 \nL 2419 1100 \nL 313 1100 \nL 313 1709 \nL 2253 4666 \nz\n\" transform=\"scale(0.015625)\"/>\n     </defs>\n     <use xlink:href=\"#DejaVuSans-34\"/>\n    </g>\n   </g>\n   <g id=\"text_15\">\n    <!-- 1 -->\n    <g style=\"fill: #08306b\" transform=\"translate(65.709375 113.909375) scale(0.1 -0.1)\">\n     <use xlink:href=\"#DejaVuSans-31\"/>\n    </g>\n   </g>\n   <g id=\"text_16\">\n    <!-- 29 -->\n    <g style=\"fill: #f7fbff\" transform=\"translate(131.828125 113.909375) scale(0.1 -0.1)\">\n     <defs>\n      <path id=\"DejaVuSans-39\" d=\"M 703 97 \nL 703 672 \nQ 941 559 1184 500 \nQ 1428 441 1663 441 \nQ 2288 441 2617 861 \nQ 2947 1281 2994 2138 \nQ 2813 1869 2534 1725 \nQ 2256 1581 1919 1581 \nQ 1219 1581 811 2004 \nQ 403 2428 403 3163 \nQ 403 3881 828 4315 \nQ 1253 4750 1959 4750 \nQ 2769 4750 3195 4129 \nQ 3622 3509 3622 2328 \nQ 3622 1225 3098 567 \nQ 2575 -91 1691 -91 \nQ 1453 -91 1209 -44 \nQ 966 3 703 97 \nz\nM 1959 2075 \nQ 2384 2075 2632 2365 \nQ 2881 2656 2881 3163 \nQ 2881 3666 2632 3958 \nQ 2384 4250 1959 4250 \nQ 1534 4250 1286 3958 \nQ 1038 3666 1038 3163 \nQ 1038 2656 1286 2365 \nQ 1534 2075 1959 2075 \nz\n\" transform=\"scale(0.015625)\"/>\n     </defs>\n     <use xlink:href=\"#DejaVuSans-32\"/>\n     <use xlink:href=\"#DejaVuSans-39\" x=\"63.623047\"/>\n    </g>\n   </g>\n   <g id=\"text_17\">\n    <!-- 0 -->\n    <g style=\"fill: #08306b\" transform=\"translate(204.309375 113.909375) scale(0.1 -0.1)\">\n     <use xlink:href=\"#DejaVuSans-30\"/>\n    </g>\n   </g>\n   <g id=\"text_18\">\n    <!-- 2 -->\n    <g style=\"fill: #08306b\" transform=\"translate(273.609375 113.909375) scale(0.1 -0.1)\">\n     <use xlink:href=\"#DejaVuSans-32\"/>\n    </g>\n   </g>\n   <g id=\"text_19\">\n    <!-- 1 -->\n    <g style=\"fill: #08306b\" transform=\"translate(65.709375 183.209375) scale(0.1 -0.1)\">\n     <use xlink:href=\"#DejaVuSans-31\"/>\n    </g>\n   </g>\n   <g id=\"text_20\">\n    <!-- 3 -->\n    <g style=\"fill: #08306b\" transform=\"translate(135.009375 183.209375) scale(0.1 -0.1)\">\n     <use xlink:href=\"#DejaVuSans-33\"/>\n    </g>\n   </g>\n   <g id=\"text_21\">\n    <!-- 31 -->\n    <g style=\"fill: #f7fbff\" transform=\"translate(201.128125 183.209375) scale(0.1 -0.1)\">\n     <use xlink:href=\"#DejaVuSans-33\"/>\n     <use xlink:href=\"#DejaVuSans-31\" x=\"63.623047\"/>\n    </g>\n   </g>\n   <g id=\"text_22\">\n    <!-- 4 -->\n    <g style=\"fill: #08306b\" transform=\"translate(273.609375 183.209375) scale(0.1 -0.1)\">\n     <use xlink:href=\"#DejaVuSans-34\"/>\n    </g>\n   </g>\n   <g id=\"text_23\">\n    <!-- 5 -->\n    <g style=\"fill: #08306b\" transform=\"translate(65.709375 252.509375) scale(0.1 -0.1)\">\n     <use xlink:href=\"#DejaVuSans-35\"/>\n    </g>\n   </g>\n   <g id=\"text_24\">\n    <!-- 3 -->\n    <g style=\"fill: #08306b\" transform=\"translate(135.009375 252.509375) scale(0.1 -0.1)\">\n     <use xlink:href=\"#DejaVuSans-33\"/>\n    </g>\n   </g>\n   <g id=\"text_25\">\n    <!-- 0 -->\n    <g style=\"fill: #08306b\" transform=\"translate(204.309375 252.509375) scale(0.1 -0.1)\">\n     <use xlink:href=\"#DejaVuSans-30\"/>\n    </g>\n   </g>\n   <g id=\"text_26\">\n    <!-- 29 -->\n    <g style=\"fill: #f7fbff\" transform=\"translate(270.428125 252.509375) scale(0.1 -0.1)\">\n     <use xlink:href=\"#DejaVuSans-32\"/>\n     <use xlink:href=\"#DejaVuSans-39\" x=\"63.623047\"/>\n    </g>\n   </g>\n  </g>\n  <g id=\"axes_2\">\n   <g id=\"patch_7\">\n    <path d=\"M 344.920625 284.4 \nL 358.780625 284.4 \nL 358.780625 7.2 \nL 344.920625 7.2 \nz\n\" style=\"fill: #ffffff\"/>\n   </g>\n   <image xlink:href=\"data:image/png;base64,\niVBORw0KGgoAAAANSUhEUgAAABMAAAGBCAYAAACEiYowAAABu0lEQVR4nO2b62nEYBDENsH9t5sfgXNq2EUQwcwUMFjoe559Xz+/7ztQvqmimZmHe66Z5x2ujcUEH2wesKs2D6nNS5nWJomJPpkXM8SmeG7CS1BtLlOb+6TYRDGnNrdRY1pt9kx7KKvNbWpzn9q8lNXmNrW5T21eympzm9rcpzYvZbW5TW3uk2LzA+oUY4YM2k8GZm3uy7yYrE3ry9LnAwoQY5LjTIwZY5MsAzlpm2CZF9N8PgOnE2lTjBmyapA3FDGmd9WAF0euzHwTzsAkbyjiSwV52DNjam3GzE2wTLyhZAxa9CYsxmRtRgxa8xKUsdKiZdpBG3I8YH890GKmHA/IMi9myL4Jv92JwBTbRMu0mCErbcjcTLFJlomXoBCbIRtKhs1+ynMps2KmbChdgg5lxVymmPvEfElSzEMZ1lXMQ4p5KsO6inkIjendN9GyCMwPeN8RY4bYLOY64pWW/JuqGDPEpheT/Tu0FrM292VezBCb3VD+t0yMWZvreDG9T9Zxtk8x9+nB5VA2Wsx5uW99i7mPGpMrozHRuVnMZYq5TzFPZVpM8IWMGbP75qGsmMsUc59insoSMP8AYJcbvo8Q7aQAAAAASUVORK5CYII=\" id=\"image21dbae56a7\" transform=\"scale(1 -1) translate(0 -277.2)\" x=\"344.88\" y=\"-7.2\" width=\"13.68\" height=\"277.2\"/>\n   <g id=\"matplotlib.axis_3\"/>\n   <g id=\"matplotlib.axis_4\">\n    <g id=\"ytick_5\">\n     <g id=\"line2d_9\">\n      <defs>\n       <path id=\"mc4cce16f29\" d=\"M 0 0 \nL 3.5 0 \n\" style=\"stroke: #000000; stroke-width: 0.8\"/>\n      </defs>\n      <g>\n       <use xlink:href=\"#mc4cce16f29\" x=\"358.780625\" y=\"284.4\" style=\"stroke: #000000; stroke-width: 0.8\"/>\n      </g>\n     </g>\n     <g id=\"text_27\">\n      <!-- 0 -->\n      <g transform=\"translate(365.780625 288.199219) scale(0.1 -0.1)\">\n       <use xlink:href=\"#DejaVuSans-30\"/>\n      </g>\n     </g>\n    </g>\n    <g id=\"ytick_6\">\n     <g id=\"line2d_10\">\n      <g>\n       <use xlink:href=\"#mc4cce16f29\" x=\"358.780625\" y=\"242.4\" style=\"stroke: #000000; stroke-width: 0.8\"/>\n      </g>\n     </g>\n     <g id=\"text_28\">\n      <!-- 5 -->\n      <g transform=\"translate(365.780625 246.199219) scale(0.1 -0.1)\">\n       <use xlink:href=\"#DejaVuSans-35\"/>\n      </g>\n     </g>\n    </g>\n    <g id=\"ytick_7\">\n     <g id=\"line2d_11\">\n      <g>\n       <use xlink:href=\"#mc4cce16f29\" x=\"358.780625\" y=\"200.4\" style=\"stroke: #000000; stroke-width: 0.8\"/>\n      </g>\n     </g>\n     <g id=\"text_29\">\n      <!-- 10 -->\n      <g transform=\"translate(365.780625 204.199219) scale(0.1 -0.1)\">\n       <use xlink:href=\"#DejaVuSans-31\"/>\n       <use xlink:href=\"#DejaVuSans-30\" x=\"63.623047\"/>\n      </g>\n     </g>\n    </g>\n    <g id=\"ytick_8\">\n     <g id=\"line2d_12\">\n      <g>\n       <use xlink:href=\"#mc4cce16f29\" x=\"358.780625\" y=\"158.4\" style=\"stroke: #000000; stroke-width: 0.8\"/>\n      </g>\n     </g>\n     <g id=\"text_30\">\n      <!-- 15 -->\n      <g transform=\"translate(365.780625 162.199219) scale(0.1 -0.1)\">\n       <use xlink:href=\"#DejaVuSans-31\"/>\n       <use xlink:href=\"#DejaVuSans-35\" x=\"63.623047\"/>\n      </g>\n     </g>\n    </g>\n    <g id=\"ytick_9\">\n     <g id=\"line2d_13\">\n      <g>\n       <use xlink:href=\"#mc4cce16f29\" x=\"358.780625\" y=\"116.4\" style=\"stroke: #000000; stroke-width: 0.8\"/>\n      </g>\n     </g>\n     <g id=\"text_31\">\n      <!-- 20 -->\n      <g transform=\"translate(365.780625 120.199219) scale(0.1 -0.1)\">\n       <use xlink:href=\"#DejaVuSans-32\"/>\n       <use xlink:href=\"#DejaVuSans-30\" x=\"63.623047\"/>\n      </g>\n     </g>\n    </g>\n    <g id=\"ytick_10\">\n     <g id=\"line2d_14\">\n      <g>\n       <use xlink:href=\"#mc4cce16f29\" x=\"358.780625\" y=\"74.4\" style=\"stroke: #000000; stroke-width: 0.8\"/>\n      </g>\n     </g>\n     <g id=\"text_32\">\n      <!-- 25 -->\n      <g transform=\"translate(365.780625 78.199219) scale(0.1 -0.1)\">\n       <use xlink:href=\"#DejaVuSans-32\"/>\n       <use xlink:href=\"#DejaVuSans-35\" x=\"63.623047\"/>\n      </g>\n     </g>\n    </g>\n    <g id=\"ytick_11\">\n     <g id=\"line2d_15\">\n      <g>\n       <use xlink:href=\"#mc4cce16f29\" x=\"358.780625\" y=\"32.4\" style=\"stroke: #000000; stroke-width: 0.8\"/>\n      </g>\n     </g>\n     <g id=\"text_33\">\n      <!-- 30 -->\n      <g transform=\"translate(365.780625 36.199219) scale(0.1 -0.1)\">\n       <use xlink:href=\"#DejaVuSans-33\"/>\n       <use xlink:href=\"#DejaVuSans-30\" x=\"63.623047\"/>\n      </g>\n     </g>\n    </g>\n   </g>\n   <g id=\"LineCollection_1\"/>\n   <g id=\"patch_8\">\n    <path d=\"M 344.920625 284.4 \nL 351.850625 284.4 \nL 358.780625 284.4 \nL 358.780625 7.2 \nL 351.850625 7.2 \nL 344.920625 7.2 \nL 344.920625 284.4 \nz\n\" style=\"fill: none; stroke: #000000; stroke-width: 0.8; stroke-linejoin: miter; stroke-linecap: square\"/>\n   </g>\n  </g>\n </g>\n <defs>\n  <clipPath id=\"p43923c5c8d\">\n   <rect x=\"34.240625\" y=\"7.2\" width=\"277.2\" height=\"277.2\"/>\n  </clipPath>\n </defs>\n</svg>\n"
          },
          "metadata": {}
        }
      ],
      "source": [
        "ConfusionMatrixDisplay.from_estimator(\n",
        "    # Объект вашего классификатора,\n",
        "    clf,\n",
        "    # множество тестовых объектов,\n",
        "                                      X_test_scaled,\n",
        "    # множество тестовых меток классов,\n",
        "                                      y_test,\n",
        "    display_labels=np.unique(y),\n",
        "    cmap=plt.cm.Blues,\n",
        "    normalize=None,\n",
        ")"
      ]
    },
    {
      "cell_type": "markdown",
      "metadata": {
        "id": "x3hh6xipH_yR"
      },
      "source": [
        "**Что показывает матрица ошибок?**\n",
        "\n",
        "Ответ:Она предоставляет обзор того, насколько хорошо классификатор делает прогнозы на основе заданного набора данных."
      ]
    },
    {
      "cell_type": "markdown",
      "metadata": {
        "id": "rCBAd3aTIWXo"
      },
      "source": [
        "Вернитесь в раздел \"Создание и обучение классификатора\" и попробуйте другие варианты параметров для модели k-ближайших соседей (количество соседей и метрик)"
      ]
    },
    {
      "cell_type": "markdown",
      "metadata": {
        "id": "yp0udBFYI5eB"
      },
      "source": [
        "**Итоговые результаты**\n",
        "\n",
        "Максимальная оценка вашей модели (score):0.81\n",
        "\n",
        "Параметры лучшей модели:\n",
        "\n",
        "- количество соседей:5\n",
        "- метрика:l1"
      ]
    },
    {
      "cell_type": "markdown",
      "metadata": {
        "id": "1GT4AqqdJXG9"
      },
      "source": [
        "## Контрольные вопросы"
      ]
    },
    {
      "cell_type": "markdown",
      "metadata": {
        "id": "ffU8ztApJdni"
      },
      "source": [
        "**Опишите алгоритм работы метода k-ближайших соседей.**\n",
        "\n",
        "Ответ:\n",
        "1. Выбираем число k ближайших соседей.\n",
        "2. Рассчитываем расстояние от нового объекта до всех существующих.\n",
        "3. Сортируем по возрастанию.\n",
        "4. Выбираем первые k возрастаний.\n",
        "5. Среди этих расстояний смотрим, каким классом относятся объекты.\n",
        "6. Относим объект к классу, который встречается чаще всего."
      ]
    },
    {
      "cell_type": "markdown",
      "metadata": {
        "id": "Z0Jjhk1CJo4T"
      },
      "source": [
        "**Чем отличаются l1 и l2 метрики?**\n",
        "\n",
        "Ответ:Ответ:\n",
        "1) l1\n",
        "\n",
        "1.1 Сумма модулей разности координат\n",
        "\n",
        "1.2 Устойчива к выбросам\n",
        "\n",
        "1.3 Обнуляет не нужные признаки и оставляет те, которые имеют отношение к предсказанию\n",
        "\n",
        "2) l2  \n",
        "2.1 Квадратный корень из суммы квадратов разностей координат\n",
        "\n",
        "2.2 Не устойчива к выбросам\n",
        "\n",
        "2.3 Оставляет все признаки, которые имеют одно отношение к прогнозированию целевого признака"
      ]
    }
  ],
  "metadata": {
    "colab": {
      "provenance": [],
      "include_colab_link": true
    },
    "kernelspec": {
      "display_name": "Python 3",
      "name": "python3"
    },
    "language_info": {
      "name": "python"
    }
  },
  "nbformat": 4,
  "nbformat_minor": 0
}